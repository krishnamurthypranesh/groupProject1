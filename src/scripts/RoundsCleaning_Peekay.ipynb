{
 "cells": [
  {
   "cell_type": "markdown",
   "metadata": {},
   "source": [
    "This file contains the code for cleaning the rounds2 file of the project."
   ]
  },
  {
   "cell_type": "markdown",
   "metadata": {},
   "source": [
    "## Code Style\n",
    "    - Case: \n",
    "        - snake_case for objects\n",
    "        - camelCase for functions and classes\n",
    "    - Double quotes first, then single quotes"
   ]
  },
  {
   "cell_type": "markdown",
   "metadata": {},
   "source": [
    "## Libraries used\n",
    "    - Pandas\n",
    "    - Numpy"
   ]
  },
  {
   "cell_type": "markdown",
   "metadata": {},
   "source": [
    "## Obejctives of Analysis\n",
    "Identify the most heavily invested main sectors in each of the three countries (for funding type FT and investments range of 5-15 M USD).\n",
    "\n",
    "Business objective: Identify the best: a. Sectors; b. Countries; c. Investment rounds for Spark Funds.\n",
    "\n",
    "[This means that we need to focus on just a few variables]"
   ]
  },
  {
   "cell_type": "markdown",
   "metadata": {},
   "source": [
    "## Metric\n",
    "Mean amount of money invested in a particular country. "
   ]
  },
  {
   "cell_type": "markdown",
   "metadata": {},
   "source": [
    "## The Workflow\n",
    "The workflow for this analysis is rather simple. Focus on answering the questions asked in the checkpoints. Following this flow, the code in this .ipynb is organized according to the checkpoints. There will be a clear heading indicating the starting and ending of each checkpoint and question."
   ]
  },
  {
   "cell_type": "code",
   "execution_count": 1,
   "metadata": {},
   "outputs": [],
   "source": [
    "# importing dependencies\n",
    "# numpy\n",
    "import numpy as np # version: 1.15.0\n",
    "\n",
    "# pandas\n",
    "import pandas as pd # version: 0.23.4"
   ]
  },
  {
   "cell_type": "markdown",
   "metadata": {},
   "source": [
    "# Checkpoint 1: Data Cleaning\n",
    "There are five tasks in this checkpoint:\n",
    "    - Number of unique companies in rounds2.csv\n",
    "\t- Number of unique companies in companies.tsv\n",
    "\t- Key column from the companies dataset that can be used to merge it with rounds data\n",
    "\t- Organizations in companies that are missing in rounds2.\n",
    "    - Merge the two datasets."
   ]
  },
  {
   "cell_type": "markdown",
   "metadata": {},
   "source": [
    "## Importing the data\n",
    "The first step of the analysis is to import the two main datasets that we will be needing for the analysis: companies and rounds. "
   ]
  },
  {
   "cell_type": "code",
   "execution_count": 2,
   "metadata": {},
   "outputs": [],
   "source": [
    "# import companies.csv as companies\n",
    "companies = pd.read_csv(\"../../Data/companies.tsv\", sep = \"\\t\", encoding = \"ISO-8859-1\") \n",
    "\n",
    "# import rounds2.csv as rounds\n",
    "rounds = pd.read_csv(\"../../Data/rounds2.csv\", sep = \",\", encoding = \"ISO-8859-1\")\n",
    "# ISO for lack of charset in UTF-8"
   ]
  },
  {
   "cell_type": "code",
   "execution_count": 3,
   "metadata": {},
   "outputs": [
    {
     "name": "stdout",
     "output_type": "stream",
     "text": [
      "<class 'pandas.core.frame.DataFrame'>\n",
      "RangeIndex: 66368 entries, 0 to 66367\n",
      "Data columns (total 10 columns):\n",
      "permalink        66368 non-null object\n",
      "name             66367 non-null object\n",
      "homepage_url     61310 non-null object\n",
      "category_list    63220 non-null object\n",
      "status           66368 non-null object\n",
      "country_code     59410 non-null object\n",
      "state_code       57821 non-null object\n",
      "region           58338 non-null object\n",
      "city             58340 non-null object\n",
      "founded_at       51147 non-null object\n",
      "dtypes: object(10)\n",
      "memory usage: 5.1+ MB\n",
      "None\n",
      "shape of dataset:  (66368, 10)\n",
      "variable dtypes:\n",
      " permalink        object\n",
      "name             object\n",
      "homepage_url     object\n",
      "category_list    object\n",
      "status           object\n",
      "country_code     object\n",
      "state_code       object\n",
      "region           object\n",
      "city             object\n",
      "founded_at       object\n",
      "dtype: object\n"
     ]
    }
   ],
   "source": [
    "#information of the companies dataset\n",
    "print(companies.info()); print(\"shape of dataset: \", companies.shape); print(\"variable dtypes:\\n\", companies.dtypes)"
   ]
  },
  {
   "cell_type": "code",
   "execution_count": 4,
   "metadata": {},
   "outputs": [
    {
     "name": "stdout",
     "output_type": "stream",
     "text": [
      "<class 'pandas.core.frame.DataFrame'>\n",
      "RangeIndex: 114949 entries, 0 to 114948\n",
      "Data columns (total 6 columns):\n",
      "company_permalink          114949 non-null object\n",
      "funding_round_permalink    114949 non-null object\n",
      "funding_round_type         114949 non-null object\n",
      "funding_round_code         31140 non-null object\n",
      "funded_at                  114949 non-null object\n",
      "raised_amount_usd          94959 non-null float64\n",
      "dtypes: float64(1), object(5)\n",
      "memory usage: 5.3+ MB\n",
      "None\n",
      "shape of dataset:  (114949, 6)\n",
      "variable dtypes:\n",
      " company_permalink           object\n",
      "funding_round_permalink     object\n",
      "funding_round_type          object\n",
      "funding_round_code          object\n",
      "funded_at                   object\n",
      "raised_amount_usd          float64\n",
      "dtype: object\n"
     ]
    }
   ],
   "source": [
    "# information about the rounds dataset\n",
    "print(rounds.info()); print(\"shape of dataset: \", rounds.shape); print(\"variable dtypes:\\n\", rounds.dtypes)"
   ]
  },
  {
   "cell_type": "markdown",
   "metadata": {},
   "source": [
    "Since we will be focusing mostly on four variables only, let's remove all the extraneous variables from both the datasets. \n",
    "We'll remove from the companies dataset the following variables:\n",
    "    - state_code\n",
    "    - region\n",
    "    - city\n",
    "    - homepage_url\n",
    "    - founded_at\n",
    "    - name"
   ]
  },
  {
   "cell_type": "code",
   "execution_count": 5,
   "metadata": {},
   "outputs": [],
   "source": [
    "# removing unnecessary columns from companies\n",
    "companies.drop([\"state_code\", \"region\", \"city\", \"homepage_url\", \"founded_at\", \"name\"], axis = 1, inplace = True)"
   ]
  },
  {
   "cell_type": "markdown",
   "metadata": {},
   "source": [
    "We'll remove the following from rounds:\n",
    "    - funded_at\n",
    "    - funding_round_code\n",
    "    - funding_round_permalink"
   ]
  },
  {
   "cell_type": "code",
   "execution_count": 6,
   "metadata": {},
   "outputs": [],
   "source": [
    "# removing unnecessary columns from rounds\n",
    "rounds.drop([\"funded_at\", \"funding_round_code\", \"funding_round_permalink\"], axis = 1, inplace = True)"
   ]
  },
  {
   "cell_type": "markdown",
   "metadata": {},
   "source": [
    "## Checkpoint 1 Q1: Number of unique companies in rounds\n",
    "To do this, we'll use the company_permalink column. However, instead of doing this directly, we'll first convert the company_permalink to lowercase and then determine the number of unique records."
   ]
  },
  {
   "cell_type": "code",
   "execution_count": 7,
   "metadata": {},
   "outputs": [
    {
     "data": {
      "text/plain": [
       "66370"
      ]
     },
     "execution_count": 7,
     "metadata": {},
     "output_type": "execute_result"
    }
   ],
   "source": [
    "# converting company_permalink to lower case and getting number of unique records.\n",
    "rounds.company_permalink.str.lower().nunique()"
   ]
  },
  {
   "cell_type": "markdown",
   "metadata": {},
   "source": [
    "There seem to be 66370 unique companies in the dataset. This means that there are companies that had more than one round of funding. [Import Observation]"
   ]
  },
  {
   "cell_type": "markdown",
   "metadata": {},
   "source": [
    "## Checpoint 1 Q2: Number of unique companies in companies\n",
    "This time, we'll use the permalink, which is supposed to be the UID of a company. As with rounds.company_permalink, we'll first convert to lower case and then proceed to count the number of unique records."
   ]
  },
  {
   "cell_type": "code",
   "execution_count": 8,
   "metadata": {},
   "outputs": [
    {
     "data": {
      "text/plain": [
       "66368"
      ]
     },
     "execution_count": 8,
     "metadata": {},
     "output_type": "execute_result"
    }
   ],
   "source": [
    "companies.permalink.str.lower().nunique()"
   ]
  },
  {
   "cell_type": "markdown",
   "metadata": {},
   "source": [
    "There seems to be a discrepancy between the number of unique records in companies and rounds. Does this mean that there are at least 2 companies in rounds that are not present in companies?"
   ]
  },
  {
   "cell_type": "markdown",
   "metadata": {},
   "source": [
    "## Checkpoint 1 Q3: Key column to merge companies and rounds\n",
    "This is pretty easy. From the data dictionary we know the companies.permalink and rounds.company_permalink are UID's of each company in the dataset. So, we'll use companies.permalink as the key to merge with rounds."
   ]
  },
  {
   "cell_type": "markdown",
   "metadata": {},
   "source": [
    "## Checkpoint 1 Q4: Mismatches between rounds and companies\n",
    "Ok. Now, we're required to find out if there are any records that are unique to rounds only. That is these organizations are not present in companies but are present in rounds.\n",
    "\n",
    "We can do this by merging on companies.permalink and rounds.company_permalink. But, we'll take a slightly different approach here. \n",
    "\n",
    "First off, we'll create two new columns in rounds and companies called company_name and name resp. Then, we'll merge based on those columns and check for missing values. If there are missing values, then there are companies which are unique to rounds only."
   ]
  },
  {
   "cell_type": "markdown",
   "metadata": {},
   "source": [
    "# Update\n",
    "So, I've found out that using a case-unified form of the permalinks produces the same result as using the names. Thus, to avoid creating unnecessary variables and excess storage consumption, I'll hold off on creating those extra columns and use the lower-case permalinks themselves."
   ]
  },
  {
   "cell_type": "code",
   "execution_count": 9,
   "metadata": {},
   "outputs": [],
   "source": [
    "# converting rounds.company_permalink and companies.permalink to lower case\n",
    "companies[\"permalink\"] = companies.permalink.str.lower()\n",
    "\n",
    "rounds[\"company_permalink\"] = rounds.company_permalink.str.lower()"
   ]
  },
  {
   "cell_type": "code",
   "execution_count": 10,
   "metadata": {},
   "outputs": [
    {
     "name": "stdout",
     "output_type": "stream",
     "text": [
      "29597                               /organization/e-cãbica\n",
      "31863          /organization/energystone-games-çµç³æ¸¸æ\n",
      "45176                  /organization/huizuche-com-æ ç§ÿè½¦\n",
      "58473                /organization/magnet-tech-ç£ç³ç§æ\n",
      "101036    /organization/tipcat-interactive-æ²èÿä¿¡æ¯ç...\n",
      "109969               /organization/weiche-tech-åè½¦ç§æ\n",
      "113839                   /organization/zengame-ç¦",
      "æ¸¸ç§æ\n",
      "Name: company_permalink, dtype: object\n"
     ]
    }
   ],
   "source": [
    "# checking if there are any unique records.\n",
    "print(rounds.company_permalink[~rounds.company_permalink.isin(companies.permalink)].dropna());"
   ]
  },
  {
   "cell_type": "markdown",
   "metadata": {},
   "source": [
    "(Look at this stackoverflow answer: https://stackoverflow.com/questions/28901683/pandas-get-rows-which-are-not-in-other-dataframe for the full explanation of the code used above.)"
   ]
  },
  {
   "cell_type": "markdown",
   "metadata": {},
   "source": [
    "There seem to be 7 companies that are in rounds but not in companies. So, the answer to the fourth question is yes. There are organizations that are present in rounds but not in companies."
   ]
  },
  {
   "cell_type": "markdown",
   "metadata": {},
   "source": [
    "## Checkpoint 1 Q5: Merge the two dataframes\n",
    "This is the basis of all our analysis. Merging the two DataFrames will give us a single data frame which contains all the data needed. After this step, we can finally start treating the missing values."
   ]
  },
  {
   "cell_type": "markdown",
   "metadata": {},
   "source": [
    "So, after some thought it was decided unanimously that the best approach would be to drop all missing values from the raised_amount_usd column. Therefore, that's what I'll do."
   ]
  },
  {
   "cell_type": "code",
   "execution_count": 11,
   "metadata": {},
   "outputs": [],
   "source": [
    "# dropping all missing values from the rounds DataFrame.\n",
    "rounds.dropna(inplace = True)"
   ]
  },
  {
   "cell_type": "code",
   "execution_count": 12,
   "metadata": {},
   "outputs": [
    {
     "data": {
      "text/plain": [
       "(94959, 3)"
      ]
     },
     "execution_count": 12,
     "metadata": {},
     "output_type": "execute_result"
    }
   ],
   "source": [
    "rounds.shape # new shape of rounds: (94959, 3)"
   ]
  },
  {
   "cell_type": "markdown",
   "metadata": {},
   "source": [
    "Dropping those missing values leaves us with 95K observations. So, we lost about 20K observations. Not a big problem though. The next step is to combine the two datasets."
   ]
  },
  {
   "cell_type": "code",
   "execution_count": 13,
   "metadata": {},
   "outputs": [],
   "source": [
    "master = pd.merge(rounds, companies, how = \"inner\", left_on = \"company_permalink\", \n",
    "                  right_on = \"permalink\")"
   ]
  },
  {
   "cell_type": "markdown",
   "metadata": {},
   "source": [
    "So, performing this merge resulted in a DataFrame with 94958 rows and 7 columns."
   ]
  },
  {
   "cell_type": "code",
   "execution_count": 14,
   "metadata": {},
   "outputs": [
    {
     "data": {
      "text/plain": [
       "country_code          0.061606\n",
       "category_list         0.010994\n",
       "status                0.000000\n",
       "permalink             0.000000\n",
       "raised_amount_usd     0.000000\n",
       "funding_round_type    0.000000\n",
       "company_permalink     0.000000\n",
       "dtype: float64"
      ]
     },
     "execution_count": 14,
     "metadata": {},
     "output_type": "execute_result"
    }
   ],
   "source": [
    "# checking for missing values\n",
    "master.isnull().mean().sort_values(ascending = False)"
   ]
  },
  {
   "cell_type": "markdown",
   "metadata": {},
   "source": [
    "There are two variables with missing values: country_code (an important variable) has 6% values missing and category_list has 1% values missing. "
   ]
  },
  {
   "cell_type": "markdown",
   "metadata": {},
   "source": [
    "The next thing to do is to check for duplicates. If there are duplicates, just drop them."
   ]
  },
  {
   "cell_type": "code",
   "execution_count": 15,
   "metadata": {},
   "outputs": [
    {
     "data": {
      "text/plain": [
       "1311"
      ]
     },
     "execution_count": 15,
     "metadata": {},
     "output_type": "execute_result"
    }
   ],
   "source": [
    "# checking for duplicates in the master DataFrame\n",
    "master.duplicated().sum() # there seem to be 1311 duplicated values."
   ]
  },
  {
   "cell_type": "code",
   "execution_count": 16,
   "metadata": {},
   "outputs": [],
   "source": [
    "master.drop_duplicates(keep = \"first\", inplace = True)"
   ]
  },
  {
   "cell_type": "markdown",
   "metadata": {},
   "source": [
    "So, dropping duplicates resulted in the loss of about 2K rows. We're now left with about 93K rows. This is about 81% of the initial observations. I don't think that deleting any more values is a good idea. This would result in the loss of more data, bringing the total down even more. \n",
    "\n",
    "Still, if we can retain more than 75% of the rows, we will have pretty reliable results."
   ]
  },
  {
   "cell_type": "markdown",
   "metadata": {},
   "source": [
    "# Treating the remaining missing values\n",
    "The remaining missing values are both present in Series of dtype object. This means that we can do something cool. We can treat the missing value itself as a new category. This is sweet. This means that we don't need to lose any more data. So, let's go ahead and do that. What we'll do is replace the NaN's with a new sentinel value that tells us if we know the country_code of an organization or not."
   ]
  },
  {
   "cell_type": "code",
   "execution_count": 17,
   "metadata": {},
   "outputs": [],
   "source": [
    "# replacing missing values in country_code with new sentinel value\n",
    "master[\"country_code\"].fillna(\"unknown\", inplace = True)"
   ]
  },
  {
   "cell_type": "code",
   "execution_count": 18,
   "metadata": {},
   "outputs": [
    {
     "data": {
      "text/plain": [
       "category_list         0.011106\n",
       "country_code          0.000000\n",
       "status                0.000000\n",
       "permalink             0.000000\n",
       "raised_amount_usd     0.000000\n",
       "funding_round_type    0.000000\n",
       "company_permalink     0.000000\n",
       "dtype: float64"
      ]
     },
     "execution_count": 18,
     "metadata": {},
     "output_type": "execute_result"
    }
   ],
   "source": [
    "# on running the following code, we see that the missing value percentage has gone down\n",
    "master.isnull().mean().sort_values(ascending = False)"
   ]
  },
  {
   "cell_type": "markdown",
   "metadata": {},
   "source": [
    "Now, we have about 1% of the total values missing 1% of it's data. 1% of 93647 is about 940. We can go ahead and delete these rows. We'll still be left with 80.5% of the total observations."
   ]
  },
  {
   "cell_type": "code",
   "execution_count": 19,
   "metadata": {},
   "outputs": [],
   "source": [
    "master.dropna(inplace = True) # Now that we have this DataFrame, we can finally start with the analysis."
   ]
  },
  {
   "cell_type": "markdown",
   "metadata": {},
   "source": [
    "# Checkpoint 2: Funding Type Analysis"
   ]
  },
  {
   "cell_type": "code",
   "execution_count": 20,
   "metadata": {},
   "outputs": [
    {
     "name": "stdout",
     "output_type": "stream",
     "text": [
      "<class 'pandas.core.frame.DataFrame'>\n",
      "Int64Index: 92607 entries, 0 to 94957\n",
      "Data columns (total 7 columns):\n",
      "company_permalink     92607 non-null object\n",
      "funding_round_type    92607 non-null object\n",
      "raised_amount_usd     92607 non-null float64\n",
      "permalink             92607 non-null object\n",
      "category_list         92607 non-null object\n",
      "status                92607 non-null object\n",
      "country_code          92607 non-null object\n",
      "dtypes: float64(1), object(6)\n",
      "memory usage: 5.7+ MB\n",
      "None\n",
      "(92607, 7)\n"
     ]
    }
   ],
   "source": [
    "# checking the information about the master table after performing all the operations\n",
    "print(master.info()); print(master.shape)"
   ]
  },
  {
   "cell_type": "markdown",
   "metadata": {},
   "source": [
    "-  ### Subtask 2.1: Calculate the average investment amount for each of the four funding types (venture, angel, seed, and private equity) "
   ]
  },
  {
   "cell_type": "code",
   "execution_count": 60,
   "metadata": {},
   "outputs": [
    {
     "data": {
      "text/plain": [
       "funding_round_type\n",
       "non_equity_assistance      0.416599\n",
       "equity_crowdfunding        0.515254\n",
       "seed                       0.721313\n",
       "angel                      0.961039\n",
       "product_crowdfunding       1.254401\n",
       "convertible_note           1.476179\n",
       "grant                      4.351144\n",
       "venture                   11.682595\n",
       "debt_financing            17.088302\n",
       "undisclosed               19.555015\n",
       "private_equity            73.350449\n",
       "secondary_market          82.395824\n",
       "post_ipo_equity           82.559698\n",
       "post_ipo_debt            168.704572\n",
       "Name: raised_amount_usd, dtype: float64"
      ]
     },
     "execution_count": 60,
     "metadata": {},
     "output_type": "execute_result"
    }
   ],
   "source": [
    "master.groupby(\"funding_round_type\").raised_amount_usd.mean().sort_values()"
   ]
  },
  {
   "cell_type": "markdown",
   "metadata": {},
   "source": [
    "### Table 2.1: Average Values of Investments for Each of these Funding Types \n",
    " Average funding amount of venture type:\t                              \n",
    " Average funding amount of angel type:\t \n",
    " Average funding amount of seed type:\t \n",
    " Average funding amount of private equity type:\t \n",
    "\n",
    "Considering that Spark Funds wants to invest between 5 to 15 million USD per investment round, which investment type is the most suitable for it?\n",
    "\t                                                                                       "
   ]
  },
  {
   "cell_type": "markdown",
   "metadata": {},
   "source": [
    "# Checkpoint 3: Country Analysis"
   ]
  },
  {
   "cell_type": "markdown",
   "metadata": {},
   "source": [
    "-  ### Subtask 3.1: Change the unit of columns\n",
    "\n",
    "Convert the unit of the `raised_amount_usd` from `$` to `million $`."
   ]
  },
  {
   "cell_type": "code",
   "execution_count": 61,
   "metadata": {},
   "outputs": [
    {
     "data": {
      "text/html": [
       "<div>\n",
       "<style scoped>\n",
       "    .dataframe tbody tr th:only-of-type {\n",
       "        vertical-align: middle;\n",
       "    }\n",
       "\n",
       "    .dataframe tbody tr th {\n",
       "        vertical-align: top;\n",
       "    }\n",
       "\n",
       "    .dataframe thead th {\n",
       "        text-align: right;\n",
       "    }\n",
       "</style>\n",
       "<table border=\"1\" class=\"dataframe\">\n",
       "  <thead>\n",
       "    <tr style=\"text-align: right;\">\n",
       "      <th></th>\n",
       "      <th>company_permalink</th>\n",
       "      <th>funding_round_type</th>\n",
       "      <th>raised_amount_usd</th>\n",
       "      <th>permalink</th>\n",
       "      <th>category_list</th>\n",
       "      <th>status</th>\n",
       "      <th>country_code</th>\n",
       "    </tr>\n",
       "  </thead>\n",
       "  <tbody>\n",
       "    <tr>\n",
       "      <th>0</th>\n",
       "      <td>/organization/-fame</td>\n",
       "      <td>venture</td>\n",
       "      <td>1.000000e-05</td>\n",
       "      <td>/organization/-fame</td>\n",
       "      <td>Media</td>\n",
       "      <td>operating</td>\n",
       "      <td>IND</td>\n",
       "    </tr>\n",
       "    <tr>\n",
       "      <th>1</th>\n",
       "      <td>/organization/-qounter</td>\n",
       "      <td>seed</td>\n",
       "      <td>7.000000e-07</td>\n",
       "      <td>/organization/-qounter</td>\n",
       "      <td>Application Platforms|Real Time|Social Network...</td>\n",
       "      <td>operating</td>\n",
       "      <td>USA</td>\n",
       "    </tr>\n",
       "    <tr>\n",
       "      <th>2</th>\n",
       "      <td>/organization/-the-one-of-them-inc-</td>\n",
       "      <td>venture</td>\n",
       "      <td>3.406878e-06</td>\n",
       "      <td>/organization/-the-one-of-them-inc-</td>\n",
       "      <td>Apps|Games|Mobile</td>\n",
       "      <td>operating</td>\n",
       "      <td>unknown</td>\n",
       "    </tr>\n",
       "    <tr>\n",
       "      <th>3</th>\n",
       "      <td>/organization/0-6-com</td>\n",
       "      <td>venture</td>\n",
       "      <td>2.000000e-06</td>\n",
       "      <td>/organization/0-6-com</td>\n",
       "      <td>Curated Web</td>\n",
       "      <td>operating</td>\n",
       "      <td>CHN</td>\n",
       "    </tr>\n",
       "    <tr>\n",
       "      <th>4</th>\n",
       "      <td>/organization/01games-technology</td>\n",
       "      <td>undisclosed</td>\n",
       "      <td>4.125000e-08</td>\n",
       "      <td>/organization/01games-technology</td>\n",
       "      <td>Games</td>\n",
       "      <td>operating</td>\n",
       "      <td>HKG</td>\n",
       "    </tr>\n",
       "    <tr>\n",
       "      <th>5</th>\n",
       "      <td>/organization/0ndine-biomedical-inc</td>\n",
       "      <td>seed</td>\n",
       "      <td>4.336000e-08</td>\n",
       "      <td>/organization/0ndine-biomedical-inc</td>\n",
       "      <td>Biotechnology</td>\n",
       "      <td>operating</td>\n",
       "      <td>CAN</td>\n",
       "    </tr>\n",
       "    <tr>\n",
       "      <th>6</th>\n",
       "      <td>/organization/0ndine-biomedical-inc</td>\n",
       "      <td>venture</td>\n",
       "      <td>7.194910e-07</td>\n",
       "      <td>/organization/0ndine-biomedical-inc</td>\n",
       "      <td>Biotechnology</td>\n",
       "      <td>operating</td>\n",
       "      <td>CAN</td>\n",
       "    </tr>\n",
       "    <tr>\n",
       "      <th>7</th>\n",
       "      <td>/organization/0xdata</td>\n",
       "      <td>seed</td>\n",
       "      <td>3.000000e-06</td>\n",
       "      <td>/organization/0xdata</td>\n",
       "      <td>Analytics</td>\n",
       "      <td>operating</td>\n",
       "      <td>USA</td>\n",
       "    </tr>\n",
       "    <tr>\n",
       "      <th>8</th>\n",
       "      <td>/organization/0xdata</td>\n",
       "      <td>venture</td>\n",
       "      <td>2.000000e-05</td>\n",
       "      <td>/organization/0xdata</td>\n",
       "      <td>Analytics</td>\n",
       "      <td>operating</td>\n",
       "      <td>USA</td>\n",
       "    </tr>\n",
       "    <tr>\n",
       "      <th>9</th>\n",
       "      <td>/organization/0xdata</td>\n",
       "      <td>venture</td>\n",
       "      <td>1.700000e-06</td>\n",
       "      <td>/organization/0xdata</td>\n",
       "      <td>Analytics</td>\n",
       "      <td>operating</td>\n",
       "      <td>USA</td>\n",
       "    </tr>\n",
       "    <tr>\n",
       "      <th>10</th>\n",
       "      <td>/organization/0xdata</td>\n",
       "      <td>venture</td>\n",
       "      <td>8.900000e-06</td>\n",
       "      <td>/organization/0xdata</td>\n",
       "      <td>Analytics</td>\n",
       "      <td>operating</td>\n",
       "      <td>USA</td>\n",
       "    </tr>\n",
       "    <tr>\n",
       "      <th>11</th>\n",
       "      <td>/organization/1</td>\n",
       "      <td>seed</td>\n",
       "      <td>1.500000e-07</td>\n",
       "      <td>/organization/1</td>\n",
       "      <td>Mobile</td>\n",
       "      <td>operating</td>\n",
       "      <td>USA</td>\n",
       "    </tr>\n",
       "    <tr>\n",
       "      <th>12</th>\n",
       "      <td>/organization/1</td>\n",
       "      <td>seed</td>\n",
       "      <td>1.000050e-06</td>\n",
       "      <td>/organization/1</td>\n",
       "      <td>Mobile</td>\n",
       "      <td>operating</td>\n",
       "      <td>USA</td>\n",
       "    </tr>\n",
       "    <tr>\n",
       "      <th>13</th>\n",
       "      <td>/organization/1-2-3-listo</td>\n",
       "      <td>seed</td>\n",
       "      <td>4.000000e-08</td>\n",
       "      <td>/organization/1-2-3-listo</td>\n",
       "      <td>E-Commerce</td>\n",
       "      <td>operating</td>\n",
       "      <td>CHL</td>\n",
       "    </tr>\n",
       "    <tr>\n",
       "      <th>14</th>\n",
       "      <td>/organization/1-800-doctors</td>\n",
       "      <td>convertible_note</td>\n",
       "      <td>1.750000e-06</td>\n",
       "      <td>/organization/1-800-doctors</td>\n",
       "      <td>Health and Wellness</td>\n",
       "      <td>operating</td>\n",
       "      <td>USA</td>\n",
       "    </tr>\n",
       "    <tr>\n",
       "      <th>15</th>\n",
       "      <td>/organization/1-800-publicrelations-inc-</td>\n",
       "      <td>private_equity</td>\n",
       "      <td>6.000000e-06</td>\n",
       "      <td>/organization/1-800-publicrelations-inc-</td>\n",
       "      <td>Internet Marketing|Media|Public Relations</td>\n",
       "      <td>operating</td>\n",
       "      <td>USA</td>\n",
       "    </tr>\n",
       "    <tr>\n",
       "      <th>16</th>\n",
       "      <td>/organization/1-mainstream</td>\n",
       "      <td>venture</td>\n",
       "      <td>5.000000e-06</td>\n",
       "      <td>/organization/1-mainstream</td>\n",
       "      <td>Apps|Cable|Distribution|Software</td>\n",
       "      <td>acquired</td>\n",
       "      <td>USA</td>\n",
       "    </tr>\n",
       "    <tr>\n",
       "      <th>17</th>\n",
       "      <td>/organization/1-of-99</td>\n",
       "      <td>convertible_note</td>\n",
       "      <td>1.000000e-07</td>\n",
       "      <td>/organization/1-of-99</td>\n",
       "      <td>Entertainment|Games</td>\n",
       "      <td>operating</td>\n",
       "      <td>USA</td>\n",
       "    </tr>\n",
       "    <tr>\n",
       "      <th>18</th>\n",
       "      <td>/organization/10-20-media</td>\n",
       "      <td>debt_financing</td>\n",
       "      <td>8.000000e-07</td>\n",
       "      <td>/organization/10-20-media</td>\n",
       "      <td>E-Commerce</td>\n",
       "      <td>operating</td>\n",
       "      <td>USA</td>\n",
       "    </tr>\n",
       "    <tr>\n",
       "      <th>19</th>\n",
       "      <td>/organization/10-20-media</td>\n",
       "      <td>debt_financing</td>\n",
       "      <td>5.000000e-07</td>\n",
       "      <td>/organization/10-20-media</td>\n",
       "      <td>E-Commerce</td>\n",
       "      <td>operating</td>\n",
       "      <td>USA</td>\n",
       "    </tr>\n",
       "    <tr>\n",
       "      <th>21</th>\n",
       "      <td>/organization/10-20-media</td>\n",
       "      <td>debt_financing</td>\n",
       "      <td>2.500000e-07</td>\n",
       "      <td>/organization/10-20-media</td>\n",
       "      <td>E-Commerce</td>\n",
       "      <td>operating</td>\n",
       "      <td>USA</td>\n",
       "    </tr>\n",
       "    <tr>\n",
       "      <th>22</th>\n",
       "      <td>/organization/10-minutes-with</td>\n",
       "      <td>venture</td>\n",
       "      <td>4.000000e-06</td>\n",
       "      <td>/organization/10-minutes-with</td>\n",
       "      <td>Education</td>\n",
       "      <td>operating</td>\n",
       "      <td>GBR</td>\n",
       "    </tr>\n",
       "    <tr>\n",
       "      <th>23</th>\n",
       "      <td>/organization/10-minutes-with</td>\n",
       "      <td>seed</td>\n",
       "      <td>4.000000e-07</td>\n",
       "      <td>/organization/10-minutes-with</td>\n",
       "      <td>Education</td>\n",
       "      <td>operating</td>\n",
       "      <td>GBR</td>\n",
       "    </tr>\n",
       "    <tr>\n",
       "      <th>24</th>\n",
       "      <td>/organization/1000-corks</td>\n",
       "      <td>seed</td>\n",
       "      <td>4.000000e-08</td>\n",
       "      <td>/organization/1000-corks</td>\n",
       "      <td>Search</td>\n",
       "      <td>operating</td>\n",
       "      <td>USA</td>\n",
       "    </tr>\n",
       "    <tr>\n",
       "      <th>25</th>\n",
       "      <td>/organization/1000-markets</td>\n",
       "      <td>seed</td>\n",
       "      <td>5.000000e-07</td>\n",
       "      <td>/organization/1000-markets</td>\n",
       "      <td>Art|E-Commerce|Marketplaces</td>\n",
       "      <td>acquired</td>\n",
       "      <td>USA</td>\n",
       "    </tr>\n",
       "    <tr>\n",
       "      <th>26</th>\n",
       "      <td>/organization/1000chi</td>\n",
       "      <td>angel</td>\n",
       "      <td>4.392386e-05</td>\n",
       "      <td>/organization/1000chi</td>\n",
       "      <td>Mobile</td>\n",
       "      <td>operating</td>\n",
       "      <td>unknown</td>\n",
       "    </tr>\n",
       "    <tr>\n",
       "      <th>27</th>\n",
       "      <td>/organization/1000memories</td>\n",
       "      <td>venture</td>\n",
       "      <td>2.520000e-06</td>\n",
       "      <td>/organization/1000memories</td>\n",
       "      <td>Curated Web</td>\n",
       "      <td>acquired</td>\n",
       "      <td>USA</td>\n",
       "    </tr>\n",
       "    <tr>\n",
       "      <th>28</th>\n",
       "      <td>/organization/1000memories</td>\n",
       "      <td>seed</td>\n",
       "      <td>1.500000e-08</td>\n",
       "      <td>/organization/1000memories</td>\n",
       "      <td>Curated Web</td>\n",
       "      <td>acquired</td>\n",
       "      <td>USA</td>\n",
       "    </tr>\n",
       "    <tr>\n",
       "      <th>29</th>\n",
       "      <td>/organization/1000museums-com</td>\n",
       "      <td>debt_financing</td>\n",
       "      <td>6.478790e-07</td>\n",
       "      <td>/organization/1000museums-com</td>\n",
       "      <td>Curated Web</td>\n",
       "      <td>operating</td>\n",
       "      <td>USA</td>\n",
       "    </tr>\n",
       "    <tr>\n",
       "      <th>30</th>\n",
       "      <td>/organization/1000museums-com</td>\n",
       "      <td>debt_financing</td>\n",
       "      <td>5.000000e-07</td>\n",
       "      <td>/organization/1000museums-com</td>\n",
       "      <td>Curated Web</td>\n",
       "      <td>operating</td>\n",
       "      <td>USA</td>\n",
       "    </tr>\n",
       "    <tr>\n",
       "      <th>...</th>\n",
       "      <td>...</td>\n",
       "      <td>...</td>\n",
       "      <td>...</td>\n",
       "      <td>...</td>\n",
       "      <td>...</td>\n",
       "      <td>...</td>\n",
       "      <td>...</td>\n",
       "    </tr>\n",
       "    <tr>\n",
       "      <th>94928</th>\n",
       "      <td>/organization/zynstra</td>\n",
       "      <td>venture</td>\n",
       "      <td>3.800000e-06</td>\n",
       "      <td>/organization/zynstra</td>\n",
       "      <td>Software</td>\n",
       "      <td>operating</td>\n",
       "      <td>GBR</td>\n",
       "    </tr>\n",
       "    <tr>\n",
       "      <th>94929</th>\n",
       "      <td>/organization/zynstra</td>\n",
       "      <td>seed</td>\n",
       "      <td>2.250000e-07</td>\n",
       "      <td>/organization/zynstra</td>\n",
       "      <td>Software</td>\n",
       "      <td>operating</td>\n",
       "      <td>GBR</td>\n",
       "    </tr>\n",
       "    <tr>\n",
       "      <th>94930</th>\n",
       "      <td>/organization/zynstra</td>\n",
       "      <td>angel</td>\n",
       "      <td>2.325000e-06</td>\n",
       "      <td>/organization/zynstra</td>\n",
       "      <td>Software</td>\n",
       "      <td>operating</td>\n",
       "      <td>GBR</td>\n",
       "    </tr>\n",
       "    <tr>\n",
       "      <th>94931</th>\n",
       "      <td>/organization/zyomyx-inc</td>\n",
       "      <td>venture</td>\n",
       "      <td>1.200000e-05</td>\n",
       "      <td>/organization/zyomyx-inc</td>\n",
       "      <td>Biotechnology</td>\n",
       "      <td>operating</td>\n",
       "      <td>USA</td>\n",
       "    </tr>\n",
       "    <tr>\n",
       "      <th>94932</th>\n",
       "      <td>/organization/zyomyx-inc</td>\n",
       "      <td>grant</td>\n",
       "      <td>7.500000e-06</td>\n",
       "      <td>/organization/zyomyx-inc</td>\n",
       "      <td>Biotechnology</td>\n",
       "      <td>operating</td>\n",
       "      <td>USA</td>\n",
       "    </tr>\n",
       "    <tr>\n",
       "      <th>94933</th>\n",
       "      <td>/organization/zyomyx-inc</td>\n",
       "      <td>venture</td>\n",
       "      <td>1.422000e-05</td>\n",
       "      <td>/organization/zyomyx-inc</td>\n",
       "      <td>Biotechnology</td>\n",
       "      <td>operating</td>\n",
       "      <td>USA</td>\n",
       "    </tr>\n",
       "    <tr>\n",
       "      <th>94934</th>\n",
       "      <td>/organization/zyomyx-inc</td>\n",
       "      <td>venture</td>\n",
       "      <td>5.550160e-07</td>\n",
       "      <td>/organization/zyomyx-inc</td>\n",
       "      <td>Biotechnology</td>\n",
       "      <td>operating</td>\n",
       "      <td>USA</td>\n",
       "    </tr>\n",
       "    <tr>\n",
       "      <th>94935</th>\n",
       "      <td>/organization/zype</td>\n",
       "      <td>seed</td>\n",
       "      <td>1.700000e-06</td>\n",
       "      <td>/organization/zype</td>\n",
       "      <td>Cloud Computing|Mobile Advertising|Video|Video...</td>\n",
       "      <td>operating</td>\n",
       "      <td>USA</td>\n",
       "    </tr>\n",
       "    <tr>\n",
       "      <th>94936</th>\n",
       "      <td>/organization/zype</td>\n",
       "      <td>seed</td>\n",
       "      <td>1.600000e-06</td>\n",
       "      <td>/organization/zype</td>\n",
       "      <td>Cloud Computing|Mobile Advertising|Video|Video...</td>\n",
       "      <td>operating</td>\n",
       "      <td>USA</td>\n",
       "    </tr>\n",
       "    <tr>\n",
       "      <th>94937</th>\n",
       "      <td>/organization/zypsee</td>\n",
       "      <td>seed</td>\n",
       "      <td>2.150000e-06</td>\n",
       "      <td>/organization/zypsee</td>\n",
       "      <td>Public Transportation</td>\n",
       "      <td>operating</td>\n",
       "      <td>USA</td>\n",
       "    </tr>\n",
       "    <tr>\n",
       "      <th>94938</th>\n",
       "      <td>/organization/zyraz-technology</td>\n",
       "      <td>private_equity</td>\n",
       "      <td>2.096700e-08</td>\n",
       "      <td>/organization/zyraz-technology</td>\n",
       "      <td>Biotechnology</td>\n",
       "      <td>closed</td>\n",
       "      <td>MYS</td>\n",
       "    </tr>\n",
       "    <tr>\n",
       "      <th>94939</th>\n",
       "      <td>/organization/zyraz-technology</td>\n",
       "      <td>angel</td>\n",
       "      <td>2.007363e-06</td>\n",
       "      <td>/organization/zyraz-technology</td>\n",
       "      <td>Biotechnology</td>\n",
       "      <td>closed</td>\n",
       "      <td>MYS</td>\n",
       "    </tr>\n",
       "    <tr>\n",
       "      <th>94940</th>\n",
       "      <td>/organization/zyraz-technology</td>\n",
       "      <td>grant</td>\n",
       "      <td>5.400000e-06</td>\n",
       "      <td>/organization/zyraz-technology</td>\n",
       "      <td>Biotechnology</td>\n",
       "      <td>closed</td>\n",
       "      <td>MYS</td>\n",
       "    </tr>\n",
       "    <tr>\n",
       "      <th>94941</th>\n",
       "      <td>/organization/zyraz-technology</td>\n",
       "      <td>venture</td>\n",
       "      <td>7.991547e-06</td>\n",
       "      <td>/organization/zyraz-technology</td>\n",
       "      <td>Biotechnology</td>\n",
       "      <td>closed</td>\n",
       "      <td>MYS</td>\n",
       "    </tr>\n",
       "    <tr>\n",
       "      <th>94942</th>\n",
       "      <td>/organization/zyrra</td>\n",
       "      <td>seed</td>\n",
       "      <td>4.450000e-07</td>\n",
       "      <td>/organization/zyrra</td>\n",
       "      <td>E-Commerce</td>\n",
       "      <td>operating</td>\n",
       "      <td>USA</td>\n",
       "    </tr>\n",
       "    <tr>\n",
       "      <th>94943</th>\n",
       "      <td>/organization/zyrra</td>\n",
       "      <td>seed</td>\n",
       "      <td>5.000000e-08</td>\n",
       "      <td>/organization/zyrra</td>\n",
       "      <td>E-Commerce</td>\n",
       "      <td>operating</td>\n",
       "      <td>USA</td>\n",
       "    </tr>\n",
       "    <tr>\n",
       "      <th>94944</th>\n",
       "      <td>/organization/zyrra</td>\n",
       "      <td>venture</td>\n",
       "      <td>1.405000e-07</td>\n",
       "      <td>/organization/zyrra</td>\n",
       "      <td>E-Commerce</td>\n",
       "      <td>operating</td>\n",
       "      <td>USA</td>\n",
       "    </tr>\n",
       "    <tr>\n",
       "      <th>94945</th>\n",
       "      <td>/organization/zyrra</td>\n",
       "      <td>angel</td>\n",
       "      <td>8.750000e-07</td>\n",
       "      <td>/organization/zyrra</td>\n",
       "      <td>E-Commerce</td>\n",
       "      <td>operating</td>\n",
       "      <td>USA</td>\n",
       "    </tr>\n",
       "    <tr>\n",
       "      <th>94946</th>\n",
       "      <td>/organization/zystor</td>\n",
       "      <td>venture</td>\n",
       "      <td>8.500000e-06</td>\n",
       "      <td>/organization/zystor</td>\n",
       "      <td>Biotechnology</td>\n",
       "      <td>acquired</td>\n",
       "      <td>USA</td>\n",
       "    </tr>\n",
       "    <tr>\n",
       "      <th>94947</th>\n",
       "      <td>/organization/zytoprotec</td>\n",
       "      <td>venture</td>\n",
       "      <td>2.686600e-06</td>\n",
       "      <td>/organization/zytoprotec</td>\n",
       "      <td>Biotechnology</td>\n",
       "      <td>operating</td>\n",
       "      <td>AUT</td>\n",
       "    </tr>\n",
       "    <tr>\n",
       "      <th>94948</th>\n",
       "      <td>/organization/zzish</td>\n",
       "      <td>grant</td>\n",
       "      <td>4.000000e-07</td>\n",
       "      <td>/organization/zzish</td>\n",
       "      <td>Analytics|Android|Developer APIs|Education|Gam...</td>\n",
       "      <td>operating</td>\n",
       "      <td>GBR</td>\n",
       "    </tr>\n",
       "    <tr>\n",
       "      <th>94949</th>\n",
       "      <td>/organization/zzish</td>\n",
       "      <td>angel</td>\n",
       "      <td>4.000000e-07</td>\n",
       "      <td>/organization/zzish</td>\n",
       "      <td>Analytics|Android|Developer APIs|Education|Gam...</td>\n",
       "      <td>operating</td>\n",
       "      <td>GBR</td>\n",
       "    </tr>\n",
       "    <tr>\n",
       "      <th>94950</th>\n",
       "      <td>/organization/zzish</td>\n",
       "      <td>seed</td>\n",
       "      <td>3.200000e-07</td>\n",
       "      <td>/organization/zzish</td>\n",
       "      <td>Analytics|Android|Developer APIs|Education|Gam...</td>\n",
       "      <td>operating</td>\n",
       "      <td>GBR</td>\n",
       "    </tr>\n",
       "    <tr>\n",
       "      <th>94951</th>\n",
       "      <td>/organization/zznode-science-and-technology-co...</td>\n",
       "      <td>venture</td>\n",
       "      <td>1.587301e-06</td>\n",
       "      <td>/organization/zznode-science-and-technology-co...</td>\n",
       "      <td>Enterprise Software</td>\n",
       "      <td>operating</td>\n",
       "      <td>CHN</td>\n",
       "    </tr>\n",
       "    <tr>\n",
       "      <th>94952</th>\n",
       "      <td>/organization/zzzzapp-com</td>\n",
       "      <td>seed</td>\n",
       "      <td>7.000000e-09</td>\n",
       "      <td>/organization/zzzzapp-com</td>\n",
       "      <td>Advertising|Mobile|Web Development|Wireless</td>\n",
       "      <td>operating</td>\n",
       "      <td>HRV</td>\n",
       "    </tr>\n",
       "    <tr>\n",
       "      <th>94953</th>\n",
       "      <td>/organization/zzzzapp-com</td>\n",
       "      <td>seed</td>\n",
       "      <td>3.314900e-08</td>\n",
       "      <td>/organization/zzzzapp-com</td>\n",
       "      <td>Advertising|Mobile|Web Development|Wireless</td>\n",
       "      <td>operating</td>\n",
       "      <td>HRV</td>\n",
       "    </tr>\n",
       "    <tr>\n",
       "      <th>94954</th>\n",
       "      <td>/organization/zzzzapp-com</td>\n",
       "      <td>convertible_note</td>\n",
       "      <td>4.131300e-08</td>\n",
       "      <td>/organization/zzzzapp-com</td>\n",
       "      <td>Advertising|Mobile|Web Development|Wireless</td>\n",
       "      <td>operating</td>\n",
       "      <td>HRV</td>\n",
       "    </tr>\n",
       "    <tr>\n",
       "      <th>94955</th>\n",
       "      <td>/organization/zzzzapp-com</td>\n",
       "      <td>seed</td>\n",
       "      <td>3.284200e-08</td>\n",
       "      <td>/organization/zzzzapp-com</td>\n",
       "      <td>Advertising|Mobile|Web Development|Wireless</td>\n",
       "      <td>operating</td>\n",
       "      <td>HRV</td>\n",
       "    </tr>\n",
       "    <tr>\n",
       "      <th>94956</th>\n",
       "      <td>/organization/ãasys-2</td>\n",
       "      <td>seed</td>\n",
       "      <td>1.819200e-08</td>\n",
       "      <td>/organization/ãasys-2</td>\n",
       "      <td>Consumer Electronics|Internet of Things|Teleco...</td>\n",
       "      <td>operating</td>\n",
       "      <td>USA</td>\n",
       "    </tr>\n",
       "    <tr>\n",
       "      <th>94957</th>\n",
       "      <td>/organization/ä°novatiff-reklam-ve-tanä±tä±m-h...</td>\n",
       "      <td>grant</td>\n",
       "      <td>1.485100e-08</td>\n",
       "      <td>/organization/ä°novatiff-reklam-ve-tanä±tä±m-h...</td>\n",
       "      <td>Consumer Goods|E-Commerce|Internet</td>\n",
       "      <td>operating</td>\n",
       "      <td>unknown</td>\n",
       "    </tr>\n",
       "  </tbody>\n",
       "</table>\n",
       "<p>92607 rows × 7 columns</p>\n",
       "</div>"
      ],
      "text/plain": [
       "                                       company_permalink funding_round_type  \\\n",
       "0                                    /organization/-fame            venture   \n",
       "1                                 /organization/-qounter               seed   \n",
       "2                    /organization/-the-one-of-them-inc-            venture   \n",
       "3                                  /organization/0-6-com            venture   \n",
       "4                       /organization/01games-technology        undisclosed   \n",
       "5                    /organization/0ndine-biomedical-inc               seed   \n",
       "6                    /organization/0ndine-biomedical-inc            venture   \n",
       "7                                   /organization/0xdata               seed   \n",
       "8                                   /organization/0xdata            venture   \n",
       "9                                   /organization/0xdata            venture   \n",
       "10                                  /organization/0xdata            venture   \n",
       "11                                       /organization/1               seed   \n",
       "12                                       /organization/1               seed   \n",
       "13                             /organization/1-2-3-listo               seed   \n",
       "14                           /organization/1-800-doctors   convertible_note   \n",
       "15              /organization/1-800-publicrelations-inc-     private_equity   \n",
       "16                            /organization/1-mainstream            venture   \n",
       "17                                 /organization/1-of-99   convertible_note   \n",
       "18                             /organization/10-20-media     debt_financing   \n",
       "19                             /organization/10-20-media     debt_financing   \n",
       "21                             /organization/10-20-media     debt_financing   \n",
       "22                         /organization/10-minutes-with            venture   \n",
       "23                         /organization/10-minutes-with               seed   \n",
       "24                              /organization/1000-corks               seed   \n",
       "25                            /organization/1000-markets               seed   \n",
       "26                                 /organization/1000chi              angel   \n",
       "27                            /organization/1000memories            venture   \n",
       "28                            /organization/1000memories               seed   \n",
       "29                         /organization/1000museums-com     debt_financing   \n",
       "30                         /organization/1000museums-com     debt_financing   \n",
       "...                                                  ...                ...   \n",
       "94928                              /organization/zynstra            venture   \n",
       "94929                              /organization/zynstra               seed   \n",
       "94930                              /organization/zynstra              angel   \n",
       "94931                           /organization/zyomyx-inc            venture   \n",
       "94932                           /organization/zyomyx-inc              grant   \n",
       "94933                           /organization/zyomyx-inc            venture   \n",
       "94934                           /organization/zyomyx-inc            venture   \n",
       "94935                                 /organization/zype               seed   \n",
       "94936                                 /organization/zype               seed   \n",
       "94937                               /organization/zypsee               seed   \n",
       "94938                     /organization/zyraz-technology     private_equity   \n",
       "94939                     /organization/zyraz-technology              angel   \n",
       "94940                     /organization/zyraz-technology              grant   \n",
       "94941                     /organization/zyraz-technology            venture   \n",
       "94942                                /organization/zyrra               seed   \n",
       "94943                                /organization/zyrra               seed   \n",
       "94944                                /organization/zyrra            venture   \n",
       "94945                                /organization/zyrra              angel   \n",
       "94946                               /organization/zystor            venture   \n",
       "94947                           /organization/zytoprotec            venture   \n",
       "94948                                /organization/zzish              grant   \n",
       "94949                                /organization/zzish              angel   \n",
       "94950                                /organization/zzish               seed   \n",
       "94951  /organization/zznode-science-and-technology-co...            venture   \n",
       "94952                          /organization/zzzzapp-com               seed   \n",
       "94953                          /organization/zzzzapp-com               seed   \n",
       "94954                          /organization/zzzzapp-com   convertible_note   \n",
       "94955                          /organization/zzzzapp-com               seed   \n",
       "94956                             /organization/ãasys-2               seed   \n",
       "94957  /organization/ä°novatiff-reklam-ve-tanä±tä±m-h...              grant   \n",
       "\n",
       "       raised_amount_usd                                          permalink  \\\n",
       "0           1.000000e-05                                /organization/-fame   \n",
       "1           7.000000e-07                             /organization/-qounter   \n",
       "2           3.406878e-06                /organization/-the-one-of-them-inc-   \n",
       "3           2.000000e-06                              /organization/0-6-com   \n",
       "4           4.125000e-08                   /organization/01games-technology   \n",
       "5           4.336000e-08                /organization/0ndine-biomedical-inc   \n",
       "6           7.194910e-07                /organization/0ndine-biomedical-inc   \n",
       "7           3.000000e-06                               /organization/0xdata   \n",
       "8           2.000000e-05                               /organization/0xdata   \n",
       "9           1.700000e-06                               /organization/0xdata   \n",
       "10          8.900000e-06                               /organization/0xdata   \n",
       "11          1.500000e-07                                    /organization/1   \n",
       "12          1.000050e-06                                    /organization/1   \n",
       "13          4.000000e-08                          /organization/1-2-3-listo   \n",
       "14          1.750000e-06                        /organization/1-800-doctors   \n",
       "15          6.000000e-06           /organization/1-800-publicrelations-inc-   \n",
       "16          5.000000e-06                         /organization/1-mainstream   \n",
       "17          1.000000e-07                              /organization/1-of-99   \n",
       "18          8.000000e-07                          /organization/10-20-media   \n",
       "19          5.000000e-07                          /organization/10-20-media   \n",
       "21          2.500000e-07                          /organization/10-20-media   \n",
       "22          4.000000e-06                      /organization/10-minutes-with   \n",
       "23          4.000000e-07                      /organization/10-minutes-with   \n",
       "24          4.000000e-08                           /organization/1000-corks   \n",
       "25          5.000000e-07                         /organization/1000-markets   \n",
       "26          4.392386e-05                              /organization/1000chi   \n",
       "27          2.520000e-06                         /organization/1000memories   \n",
       "28          1.500000e-08                         /organization/1000memories   \n",
       "29          6.478790e-07                      /organization/1000museums-com   \n",
       "30          5.000000e-07                      /organization/1000museums-com   \n",
       "...                  ...                                                ...   \n",
       "94928       3.800000e-06                              /organization/zynstra   \n",
       "94929       2.250000e-07                              /organization/zynstra   \n",
       "94930       2.325000e-06                              /organization/zynstra   \n",
       "94931       1.200000e-05                           /organization/zyomyx-inc   \n",
       "94932       7.500000e-06                           /organization/zyomyx-inc   \n",
       "94933       1.422000e-05                           /organization/zyomyx-inc   \n",
       "94934       5.550160e-07                           /organization/zyomyx-inc   \n",
       "94935       1.700000e-06                                 /organization/zype   \n",
       "94936       1.600000e-06                                 /organization/zype   \n",
       "94937       2.150000e-06                               /organization/zypsee   \n",
       "94938       2.096700e-08                     /organization/zyraz-technology   \n",
       "94939       2.007363e-06                     /organization/zyraz-technology   \n",
       "94940       5.400000e-06                     /organization/zyraz-technology   \n",
       "94941       7.991547e-06                     /organization/zyraz-technology   \n",
       "94942       4.450000e-07                                /organization/zyrra   \n",
       "94943       5.000000e-08                                /organization/zyrra   \n",
       "94944       1.405000e-07                                /organization/zyrra   \n",
       "94945       8.750000e-07                                /organization/zyrra   \n",
       "94946       8.500000e-06                               /organization/zystor   \n",
       "94947       2.686600e-06                           /organization/zytoprotec   \n",
       "94948       4.000000e-07                                /organization/zzish   \n",
       "94949       4.000000e-07                                /organization/zzish   \n",
       "94950       3.200000e-07                                /organization/zzish   \n",
       "94951       1.587301e-06  /organization/zznode-science-and-technology-co...   \n",
       "94952       7.000000e-09                          /organization/zzzzapp-com   \n",
       "94953       3.314900e-08                          /organization/zzzzapp-com   \n",
       "94954       4.131300e-08                          /organization/zzzzapp-com   \n",
       "94955       3.284200e-08                          /organization/zzzzapp-com   \n",
       "94956       1.819200e-08                             /organization/ãasys-2   \n",
       "94957       1.485100e-08  /organization/ä°novatiff-reklam-ve-tanä±tä±m-h...   \n",
       "\n",
       "                                           category_list     status  \\\n",
       "0                                                  Media  operating   \n",
       "1      Application Platforms|Real Time|Social Network...  operating   \n",
       "2                                      Apps|Games|Mobile  operating   \n",
       "3                                            Curated Web  operating   \n",
       "4                                                  Games  operating   \n",
       "5                                          Biotechnology  operating   \n",
       "6                                          Biotechnology  operating   \n",
       "7                                              Analytics  operating   \n",
       "8                                              Analytics  operating   \n",
       "9                                              Analytics  operating   \n",
       "10                                             Analytics  operating   \n",
       "11                                                Mobile  operating   \n",
       "12                                                Mobile  operating   \n",
       "13                                            E-Commerce  operating   \n",
       "14                                   Health and Wellness  operating   \n",
       "15             Internet Marketing|Media|Public Relations  operating   \n",
       "16                      Apps|Cable|Distribution|Software   acquired   \n",
       "17                                   Entertainment|Games  operating   \n",
       "18                                            E-Commerce  operating   \n",
       "19                                            E-Commerce  operating   \n",
       "21                                            E-Commerce  operating   \n",
       "22                                             Education  operating   \n",
       "23                                             Education  operating   \n",
       "24                                                Search  operating   \n",
       "25                           Art|E-Commerce|Marketplaces   acquired   \n",
       "26                                                Mobile  operating   \n",
       "27                                           Curated Web   acquired   \n",
       "28                                           Curated Web   acquired   \n",
       "29                                           Curated Web  operating   \n",
       "30                                           Curated Web  operating   \n",
       "...                                                  ...        ...   \n",
       "94928                                           Software  operating   \n",
       "94929                                           Software  operating   \n",
       "94930                                           Software  operating   \n",
       "94931                                      Biotechnology  operating   \n",
       "94932                                      Biotechnology  operating   \n",
       "94933                                      Biotechnology  operating   \n",
       "94934                                      Biotechnology  operating   \n",
       "94935  Cloud Computing|Mobile Advertising|Video|Video...  operating   \n",
       "94936  Cloud Computing|Mobile Advertising|Video|Video...  operating   \n",
       "94937                              Public Transportation  operating   \n",
       "94938                                      Biotechnology     closed   \n",
       "94939                                      Biotechnology     closed   \n",
       "94940                                      Biotechnology     closed   \n",
       "94941                                      Biotechnology     closed   \n",
       "94942                                         E-Commerce  operating   \n",
       "94943                                         E-Commerce  operating   \n",
       "94944                                         E-Commerce  operating   \n",
       "94945                                         E-Commerce  operating   \n",
       "94946                                      Biotechnology   acquired   \n",
       "94947                                      Biotechnology  operating   \n",
       "94948  Analytics|Android|Developer APIs|Education|Gam...  operating   \n",
       "94949  Analytics|Android|Developer APIs|Education|Gam...  operating   \n",
       "94950  Analytics|Android|Developer APIs|Education|Gam...  operating   \n",
       "94951                                Enterprise Software  operating   \n",
       "94952        Advertising|Mobile|Web Development|Wireless  operating   \n",
       "94953        Advertising|Mobile|Web Development|Wireless  operating   \n",
       "94954        Advertising|Mobile|Web Development|Wireless  operating   \n",
       "94955        Advertising|Mobile|Web Development|Wireless  operating   \n",
       "94956  Consumer Electronics|Internet of Things|Teleco...  operating   \n",
       "94957                 Consumer Goods|E-Commerce|Internet  operating   \n",
       "\n",
       "      country_code  \n",
       "0              IND  \n",
       "1              USA  \n",
       "2          unknown  \n",
       "3              CHN  \n",
       "4              HKG  \n",
       "5              CAN  \n",
       "6              CAN  \n",
       "7              USA  \n",
       "8              USA  \n",
       "9              USA  \n",
       "10             USA  \n",
       "11             USA  \n",
       "12             USA  \n",
       "13             CHL  \n",
       "14             USA  \n",
       "15             USA  \n",
       "16             USA  \n",
       "17             USA  \n",
       "18             USA  \n",
       "19             USA  \n",
       "21             USA  \n",
       "22             GBR  \n",
       "23             GBR  \n",
       "24             USA  \n",
       "25             USA  \n",
       "26         unknown  \n",
       "27             USA  \n",
       "28             USA  \n",
       "29             USA  \n",
       "30             USA  \n",
       "...            ...  \n",
       "94928          GBR  \n",
       "94929          GBR  \n",
       "94930          GBR  \n",
       "94931          USA  \n",
       "94932          USA  \n",
       "94933          USA  \n",
       "94934          USA  \n",
       "94935          USA  \n",
       "94936          USA  \n",
       "94937          USA  \n",
       "94938          MYS  \n",
       "94939          MYS  \n",
       "94940          MYS  \n",
       "94941          MYS  \n",
       "94942          USA  \n",
       "94943          USA  \n",
       "94944          USA  \n",
       "94945          USA  \n",
       "94946          USA  \n",
       "94947          AUT  \n",
       "94948          GBR  \n",
       "94949          GBR  \n",
       "94950          GBR  \n",
       "94951          CHN  \n",
       "94952          HRV  \n",
       "94953          HRV  \n",
       "94954          HRV  \n",
       "94955          HRV  \n",
       "94956          USA  \n",
       "94957      unknown  \n",
       "\n",
       "[92607 rows x 7 columns]"
      ]
     },
     "execution_count": 61,
     "metadata": {},
     "output_type": "execute_result"
    }
   ],
   "source": [
    "# code for unit conversion here\n",
    "master['raised_amount_usd'] = master['raised_amount_usd'].apply(lambda x: x / 1000000)\n",
    "master #verify the unit conversion"
   ]
  },
  {
   "cell_type": "markdown",
   "metadata": {},
   "source": [
    " -  ### Subtask 3.2: Find the top nine countries with highest total funding for the given investment = \"venture\"\n",
    "\n",
    "    -- Spark Funds wants to see the top nine countries which have received the highest total funding (across ALL sectors for the chosen investment type)\n",
    "\n",
    "    -- For the chosen investment type, make a data frame named top9 with the top nine countries (based on the total investment amount each country has received)"
   ]
  },
  {
   "cell_type": "code",
   "execution_count": 62,
   "metadata": {},
   "outputs": [],
   "source": [
    "#groupby command here to find the country-wise total funding for the investment type \n",
    "master_grpby_country= master.loc[master.funding_round_type == \"venture\", :].groupby(['country_code'])"
   ]
  },
  {
   "cell_type": "code",
   "execution_count": 63,
   "metadata": {},
   "outputs": [
    {
     "data": {
      "text/plain": [
       "country_code\n",
       "USA        0.411103\n",
       "CHN        0.038362\n",
       "unknown    0.021991\n",
       "GBR        0.019932\n",
       "IND        0.014134\n",
       "CAN        0.009364\n",
       "FRA        0.007223\n",
       "ISR        0.006699\n",
       "DEU        0.006287\n",
       "Name: raised_amount_usd, dtype: float64"
      ]
     },
     "execution_count": 63,
     "metadata": {},
     "output_type": "execute_result"
    }
   ],
   "source": [
    "#code to find the top nine countries with highest total funding\n",
    "top9 = master_grpby_country['raised_amount_usd'].sum().sort_values(ascending=False)[:9]\n",
    "top9"
   ]
  },
  {
   "cell_type": "markdown",
   "metadata": {},
   "source": [
    "-  ### Subtask 3.3: Identify the top three English-speaking countries in the data frame top9."
   ]
  },
  {
   "cell_type": "markdown",
   "metadata": {},
   "source": [
    "### Table 3.1: Analysing the Top 3 English-Speaking Countries\n",
    "Based on the list of countries where English is an official language - the top three English-speaking countries are:\n",
    "\n",
    " 1. Top English-speaking country \t USA (United States)             \n",
    " 2. Second English-speaking country\t GBR (United Kingdom)\n",
    " 3. Third English-speaking country\t IND (India)"
   ]
  },
  {
   "cell_type": "markdown",
   "metadata": {},
   "source": [
    "# Checkpoint 4: Sector Analysis 1\n",
    "So, let's start off with the sector analysis. Here's what needs to be done in this part of the analysis.\n",
    "    - Extract the primary sector of each category list from the category_list column.\n",
    "    - Use the mapping file 'mapping.csv' to map each primary sector to one of the eight main sectors (Note that ‘Others’ is also considered one of the main sectors)\n",
    "\n",
    "The primary sector is the string that appears before the first pipe \"|\" in the category_list variable. So, let's get on with it."
   ]
  },
  {
   "cell_type": "markdown",
   "metadata": {},
   "source": [
    "## Extracting the primary sector from category_list\n",
    "First off, let's start by getting a good look at the dataframe. After that, we'll create a new variable called primary_sector to store the primary sector of each organization in the dataframe."
   ]
  },
  {
   "cell_type": "code",
   "execution_count": 13,
   "metadata": {},
   "outputs": [
    {
     "name": "stdout",
     "output_type": "stream",
     "text": [
      "<class 'pandas.core.frame.DataFrame'>\n",
      "Int64Index: 92607 entries, 0 to 94957\n",
      "Data columns (total 7 columns):\n",
      "company_permalink     92607 non-null object\n",
      "funding_round_type    92607 non-null object\n",
      "raised_amount_usd     92607 non-null float64\n",
      "permalink             92607 non-null object\n",
      "category_list         92607 non-null object\n",
      "status                92607 non-null object\n",
      "country_code          92607 non-null object\n",
      "dtypes: float64(1), object(6)\n",
      "memory usage: 5.7+ MB\n",
      "None\n",
      "(92607, 7)\n"
     ]
    }
   ],
   "source": [
    "print(master.info()); print(master.shape) # cool"
   ]
  },
  {
   "cell_type": "code",
   "execution_count": 14,
   "metadata": {},
   "outputs": [],
   "source": [
    "# creating the primary sector\n",
    "master[\"primary_sector\"] = master.category_list.str.split(\"|\").str.get(0)"
   ]
  },
  {
   "cell_type": "markdown",
   "metadata": {},
   "source": [
    "Now that we have the primary sector, the next to-do item on our list is to map each of those primary sectors to a main sector. For that, we need the mapping data. We'll load that up and proceed to map the primary sectors to a main sector."
   ]
  },
  {
   "cell_type": "code",
   "execution_count": 15,
   "metadata": {},
   "outputs": [],
   "source": [
    "# loading mapping.csv as mapping\n",
    "mapping = pd.read_csv(\"../../Data/mapping.csv\", sep = \",\", encoding = \"ISO-8859-1\")"
   ]
  },
  {
   "cell_type": "code",
   "execution_count": 17,
   "metadata": {},
   "outputs": [
    {
     "name": "stdout",
     "output_type": "stream",
     "text": [
      "<class 'pandas.core.frame.DataFrame'>\n",
      "Int64Index: 687 entries, 1 to 687\n",
      "Data columns (total 9 columns):\n",
      "category_list                              687 non-null object\n",
      "Automotive & Sports                        687 non-null int64\n",
      "Cleantech / Semiconductors                 687 non-null int64\n",
      "Entertainment                              687 non-null int64\n",
      "Health                                     687 non-null int64\n",
      "Manufacturing                              687 non-null int64\n",
      "News, Search and Messaging                 687 non-null int64\n",
      "Others                                     687 non-null int64\n",
      "Social, Finance, Analytics, Advertising    687 non-null int64\n",
      "dtypes: int64(8), object(1)\n",
      "memory usage: 53.7+ KB\n",
      "None\n"
     ]
    }
   ],
   "source": [
    "# some basic information about mapping\n",
    "print(mapping.info())"
   ]
  },
  {
   "cell_type": "code",
   "execution_count": 17,
   "metadata": {},
   "outputs": [
    {
     "data": {
      "text/html": [
       "<div>\n",
       "<style scoped>\n",
       "    .dataframe tbody tr th:only-of-type {\n",
       "        vertical-align: middle;\n",
       "    }\n",
       "\n",
       "    .dataframe tbody tr th {\n",
       "        vertical-align: top;\n",
       "    }\n",
       "\n",
       "    .dataframe thead th {\n",
       "        text-align: right;\n",
       "    }\n",
       "</style>\n",
       "<table border=\"1\" class=\"dataframe\">\n",
       "  <thead>\n",
       "    <tr style=\"text-align: right;\">\n",
       "      <th></th>\n",
       "      <th>category_list</th>\n",
       "      <th>Automotive &amp; Sports</th>\n",
       "      <th>Blanks</th>\n",
       "      <th>Cleantech / Semiconductors</th>\n",
       "      <th>Entertainment</th>\n",
       "      <th>Health</th>\n",
       "      <th>Manufacturing</th>\n",
       "      <th>News, Search and Messaging</th>\n",
       "      <th>Others</th>\n",
       "      <th>Social, Finance, Analytics, Advertising</th>\n",
       "    </tr>\n",
       "  </thead>\n",
       "  <tbody>\n",
       "    <tr>\n",
       "      <th>0</th>\n",
       "      <td>NaN</td>\n",
       "      <td>0</td>\n",
       "      <td>1</td>\n",
       "      <td>0</td>\n",
       "      <td>0</td>\n",
       "      <td>0</td>\n",
       "      <td>0</td>\n",
       "      <td>0</td>\n",
       "      <td>0</td>\n",
       "      <td>0</td>\n",
       "    </tr>\n",
       "    <tr>\n",
       "      <th>1</th>\n",
       "      <td>3D</td>\n",
       "      <td>0</td>\n",
       "      <td>0</td>\n",
       "      <td>0</td>\n",
       "      <td>0</td>\n",
       "      <td>0</td>\n",
       "      <td>1</td>\n",
       "      <td>0</td>\n",
       "      <td>0</td>\n",
       "      <td>0</td>\n",
       "    </tr>\n",
       "    <tr>\n",
       "      <th>2</th>\n",
       "      <td>3D Printing</td>\n",
       "      <td>0</td>\n",
       "      <td>0</td>\n",
       "      <td>0</td>\n",
       "      <td>0</td>\n",
       "      <td>0</td>\n",
       "      <td>1</td>\n",
       "      <td>0</td>\n",
       "      <td>0</td>\n",
       "      <td>0</td>\n",
       "    </tr>\n",
       "    <tr>\n",
       "      <th>3</th>\n",
       "      <td>3D Technology</td>\n",
       "      <td>0</td>\n",
       "      <td>0</td>\n",
       "      <td>0</td>\n",
       "      <td>0</td>\n",
       "      <td>0</td>\n",
       "      <td>1</td>\n",
       "      <td>0</td>\n",
       "      <td>0</td>\n",
       "      <td>0</td>\n",
       "    </tr>\n",
       "    <tr>\n",
       "      <th>4</th>\n",
       "      <td>Accounting</td>\n",
       "      <td>0</td>\n",
       "      <td>0</td>\n",
       "      <td>0</td>\n",
       "      <td>0</td>\n",
       "      <td>0</td>\n",
       "      <td>0</td>\n",
       "      <td>0</td>\n",
       "      <td>0</td>\n",
       "      <td>1</td>\n",
       "    </tr>\n",
       "  </tbody>\n",
       "</table>\n",
       "</div>"
      ],
      "text/plain": [
       "   category_list  Automotive & Sports  Blanks  Cleantech / Semiconductors  \\\n",
       "0            NaN                    0       1                           0   \n",
       "1             3D                    0       0                           0   \n",
       "2    3D Printing                    0       0                           0   \n",
       "3  3D Technology                    0       0                           0   \n",
       "4     Accounting                    0       0                           0   \n",
       "\n",
       "   Entertainment  Health  Manufacturing  News, Search and Messaging  Others  \\\n",
       "0              0       0              0                           0       0   \n",
       "1              0       0              1                           0       0   \n",
       "2              0       0              1                           0       0   \n",
       "3              0       0              1                           0       0   \n",
       "4              0       0              0                           0       0   \n",
       "\n",
       "   Social, Finance, Analytics, Advertising  \n",
       "0                                        0  \n",
       "1                                        0  \n",
       "2                                        0  \n",
       "3                                        0  \n",
       "4                                        1  "
      ]
     },
     "execution_count": 17,
     "metadata": {},
     "output_type": "execute_result"
    }
   ],
   "source": [
    "mapping.head()"
   ]
  },
  {
   "cell_type": "markdown",
   "metadata": {},
   "source": [
    "OK. So, this mapping file has turned out to be a one-to-one sparse matrix that maps each primary sector to one of the eight main sectors. What I have to do now is get a main sector for each primary sector. I'm not aware of any native pandas methods that enable me to do this. My first impulse is to write a function which will allow me to do just this. Then there's relational algebra which can produce results really quickly. I'll try out my function first."
   ]
  },
  {
   "cell_type": "markdown",
   "metadata": {},
   "source": [
    "As it turns out, this operation is what Hadley Wickham calls gathering the columns. (read more about it here: https://r4ds.had.co.nz/tidy-data.html).\n",
    "\n",
    "The main task here is this: convert the wide (and sparse) representation of the mapping into a long representation. This means bringing in all the colums under one roof. It's way easier to demonstrate than to explain. \n",
    "\n",
    "Luckily, pandas does provide a function to do this: pd.melt() (just like reshape2::melt() from R). Check the docs to understand how awesome this function is. (For a tutorial on pd.melt() go here: https://www.ibm.com/developerworks/community/blogs/jfp/entry/Tidy_Data_In_Python?lang=en)"
   ]
  },
  {
   "cell_type": "code",
   "execution_count": 16,
   "metadata": {},
   "outputs": [],
   "source": [
    "# dropping the Blanks column since this just serves as a flag to identify NaN's\n",
    "mapping.drop(\"Blanks\", axis = 1, inplace = True)\n",
    "\n",
    "# dropping the single NaN at the head of the dataset\n",
    "mapping.dropna(axis = 0, inplace = True)"
   ]
  },
  {
   "cell_type": "code",
   "execution_count": 19,
   "metadata": {},
   "outputs": [],
   "source": [
    "# gathering all the columns under one roof\n",
    "mapping_long = pd.melt(mapping, id_vars = [\"category_list\"], var_name = \"main_sector\", value_name = \"yes_no\")\n",
    "\n",
    "# tidying mapping_long to produce the final version of the mapping dataset\n",
    "mapping_tidy = mapping_long.loc[mapping_long.yes_no == 1, [\"category_list\", \"main_sector\"]]"
   ]
  },
  {
   "cell_type": "markdown",
   "metadata": {},
   "source": [
    "To finish up, let's take one look at the mapping_tidy dataset just to make sure everything is alright"
   ]
  },
  {
   "cell_type": "code",
   "execution_count": 23,
   "metadata": {},
   "outputs": [
    {
     "name": "stdout",
     "output_type": "stream",
     "text": [
      "<class 'pandas.core.frame.DataFrame'>\n",
      "Int64Index: 687 entries, 7 to 5471\n",
      "Data columns (total 2 columns):\n",
      "category_list    687 non-null object\n",
      "main_sector      687 non-null object\n",
      "dtypes: object(2)\n",
      "memory usage: 16.1+ KB\n",
      "None\n",
      "category_list    0.0\n",
      "main_sector      0.0\n",
      "dtype: float64\n"
     ]
    }
   ],
   "source": [
    "print(mapping_tidy.info());\n",
    "print(mapping_tidy.isnull().mean()) # no null values. We can proceed to merge the two datasets!"
   ]
  },
  {
   "cell_type": "markdown",
   "metadata": {},
   "source": [
    "Now, all that's left out is to merge the two datasets and proceed to perform a series of checks. Here are the final steps to finish up checkpoint 4.\n",
    "1. Merge master and mapping_tidy\n",
    "2. Check for: a. Missing values; b. Duplicates\n",
    "3. Treat missing values and drop duplicates`"
   ]
  },
  {
   "cell_type": "markdown",
   "metadata": {},
   "source": [
    "# Issue with merging\n",
    "Now, while merging the two datasets, master and mapped_tidy, one of two types of joins can be used. Either the inner or outer. There are the left and right joins, but we'll leave them out of the picture for now. \n",
    "\n",
    "If the inner join is used during the merge, there is a loss data. There are some sub-sectors that are present in master.primary_sector but aren't present in mapped.category_list. \n",
    "\n",
    "If the outer join is used during the merge, NULL values are inserted into the dataset. Again, dropping this is just equivalent to using the inner join. One other way to treat them is to manually add them to one of the 8 main sectors. \n",
    "\n",
    "What do you guys think?"
   ]
  },
  {
   "cell_type": "code",
   "execution_count": 24,
   "metadata": {},
   "outputs": [
    {
     "data": {
      "text/plain": [
       "array(['Analytics', 'Finance', 'Financial Services', 'Nanotechnology',\n",
       "       'Finance Technology', 'Business Analytics', 'Contact Management',\n",
       "       'Career Management', 'Big Data Analytics', 'Self Development',\n",
       "       'Cloud Management', 'Digital Signage', 'Cause Marketing',\n",
       "       'Personalization', 'Innovation Management', 'Risk Management',\n",
       "       'Document Management', 'Journalism', 'Energy Management',\n",
       "       'Waste Management', 'Fleet Management', 'Alternative Medicine',\n",
       "       'Real Estate Investors', 'Investment Management',\n",
       "       'English-Speaking', 'Intellectual Asset Management',\n",
       "       'Educational Games', 'Identity Management', 'Lead Management',\n",
       "       'Property Management', 'IT Management', 'Event Management',\n",
       "       'Navigation', 'Toys', 'Professional Services', 'Generation Y-Z',\n",
       "       'Cannabis', 'Enterprise Hardware', 'Social Media Advertising',\n",
       "       'Personal Finance', 'Darknet', 'Knowledge Management',\n",
       "       'China Internet', 'Medical Professionals',\n",
       "       'Digital Rights Management', 'Natural Gas Uses',\n",
       "       'Predictive Analytics', 'Natural Language Processing',\n",
       "       'Internet Technology', 'Nightlife', 'Adaptive Equipment',\n",
       "       'Project Management', 'Governance', 'Financial Exchanges',\n",
       "       'Professional Networking', 'Personal Branding',\n",
       "       'Supply Chain Management', 'Internet TV', 'Skill Gaming', 'Racing',\n",
       "       'Specialty Retail', 'Natural Resources', 'Swimming', 'Registrars',\n",
       "       'Personal Health', 'Golf Equipment',\n",
       "       'Biotechnology and Semiconductor', 'Vacation Rentals',\n",
       "       'Google Glass', 'Rapidly Expanding', 'Group Email',\n",
       "       'Mobile Analytics', 'Social Media Management', 'Kinect', 'Spas',\n",
       "       'Product Search', 'Sex Industry', 'Psychology', 'Promotional',\n",
       "       'Testing', 'GreenTech', 'Retirement', 'Subscription Businesses',\n",
       "       'Personal Data', 'Lingerie', 'Mobile Emergency&Health',\n",
       "       'Sponsorship', 'Deep Information Technology', 'Task Management'],\n",
       "      dtype=object)"
      ]
     },
     "execution_count": 24,
     "metadata": {},
     "output_type": "execute_result"
    }
   ],
   "source": [
    "# primary sectors present in master.primary_sector but not present in mapping_tidy.category_list\n",
    "master.primary_sector[~master.primary_sector.isin(mapping_tidy.category_list)].dropna().unique()"
   ]
  },
  {
   "cell_type": "markdown",
   "metadata": {},
   "source": [
    "From the result of the code above, it's clear that there are 89 sub-sectors that are not included in the mapping dataset. So, if we're manually imputing the values, it would mean the addition of utmost, 89 lines of code. This would preserve the data, but decrease the readability of the file quite a bit. Since we're graded on code readability quite a bit, what do you think we should do?"
   ]
  },
  {
   "cell_type": "code",
   "execution_count": null,
   "metadata": {},
   "outputs": [],
   "source": []
  },
  {
   "cell_type": "code",
   "execution_count": null,
   "metadata": {},
   "outputs": [],
   "source": []
  },
  {
   "cell_type": "code",
   "execution_count": null,
   "metadata": {},
   "outputs": [],
   "source": []
  },
  {
   "cell_type": "code",
   "execution_count": null,
   "metadata": {},
   "outputs": [],
   "source": []
  },
  {
   "cell_type": "code",
   "execution_count": null,
   "metadata": {},
   "outputs": [],
   "source": []
  },
  {
   "cell_type": "code",
   "execution_count": null,
   "metadata": {},
   "outputs": [],
   "source": []
  },
  {
   "cell_type": "code",
   "execution_count": null,
   "metadata": {},
   "outputs": [],
   "source": []
  },
  {
   "cell_type": "code",
   "execution_count": null,
   "metadata": {},
   "outputs": [],
   "source": []
  },
  {
   "cell_type": "code",
   "execution_count": null,
   "metadata": {},
   "outputs": [],
   "source": []
  },
  {
   "cell_type": "markdown",
   "metadata": {},
   "source": [
    "# Checkpoint 5: Sector Analysis 2"
   ]
  }
 ],
 "metadata": {
  "kernelspec": {
   "display_name": "Python 3",
   "language": "python",
   "name": "python3"
  },
  "language_info": {
   "codemirror_mode": {
    "name": "ipython",
    "version": 3
   },
   "file_extension": ".py",
   "mimetype": "text/x-python",
   "name": "python",
   "nbconvert_exporter": "python",
   "pygments_lexer": "ipython3",
   "version": "3.6.5"
  }
 },
 "nbformat": 4,
 "nbformat_minor": 2
}
