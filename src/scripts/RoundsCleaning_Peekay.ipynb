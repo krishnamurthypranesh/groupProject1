{
 "cells": [
  {
   "cell_type": "markdown",
   "metadata": {},
   "source": [
    "This file contains the code for cleaning the rounds2 file of the project."
   ]
  },
  {
   "cell_type": "markdown",
   "metadata": {},
   "source": [
    "## Code Style\n",
    "    - Case: \n",
    "        - snake_case for objects\n",
    "        - camelCase for functions and classes\n",
    "    - Double quotes first, then single quotes"
   ]
  },
  {
   "cell_type": "markdown",
   "metadata": {},
   "source": [
    "## Libraries used\n",
    "    - Pandas\n",
    "    - Numpy"
   ]
  },
  {
   "cell_type": "markdown",
   "metadata": {},
   "source": [
    "## Obejctives of Analysis\n",
    "Identify the most heavily invested main sectors in each of the three countries (for funding type FT and investments range of 5-15 M USD).\n",
    "\n",
    "Business objective: Identify the best: a. Sectors; b. Countries; c. Investment rounds for Spark Funds.\n",
    "\n",
    "[This means that we need to focus on just a few variables]"
   ]
  },
  {
   "cell_type": "markdown",
   "metadata": {},
   "source": [
    "## Metric\n",
    "Mean amount of money invested in a particular country. "
   ]
  },
  {
   "cell_type": "markdown",
   "metadata": {},
   "source": [
    "## The Workflow\n",
    "The workflow for this analysis is rather simple. Focus on answering the questions asked in the checkpoints. Following this flow, the code in this .ipynb is organized according to the checkpoints. There will be a clear heading indicating the starting and ending of each checkpoint and question."
   ]
  },
  {
   "cell_type": "code",
   "execution_count": 1,
   "metadata": {},
   "outputs": [
    {
     "name": "stderr",
     "output_type": "stream",
     "text": [
      "/usr/lib/python3.6/importlib/_bootstrap.py:219: RuntimeWarning: numpy.dtype size changed, may indicate binary incompatibility. Expected 96, got 88\n",
      "  return f(*args, **kwds)\n",
      "/usr/lib/python3.6/importlib/_bootstrap.py:219: RuntimeWarning: numpy.dtype size changed, may indicate binary incompatibility. Expected 96, got 88\n",
      "  return f(*args, **kwds)\n"
     ]
    }
   ],
   "source": [
    "# importing dependencies\n",
    "# numpy\n",
    "import numpy as np # version: 1.15.0\n",
    "\n",
    "# pandas\n",
    "import pandas as pd # version: 0.23.4"
   ]
  },
  {
   "cell_type": "markdown",
   "metadata": {},
   "source": [
    "# Checkpoint 1: Data Cleaning\n",
    "There are five tasks in this checkpoint:\n",
    "    - Number of unique companies in rounds2.csv\n",
    "\t- Number of unique companies in companies.tsv\n",
    "\t- Key column from the companies dataset that can be used to merge it with rounds data\n",
    "\t- Organizations in companies that are missing in rounds2.\n",
    "    - Merge the two datasets."
   ]
  },
  {
   "cell_type": "markdown",
   "metadata": {},
   "source": [
    "## Importing the data\n",
    "The first step of the analysis is to import the two main datasets that we will be needing for the analysis: companies and rounds. "
   ]
  },
  {
   "cell_type": "code",
   "execution_count": 31,
   "metadata": {},
   "outputs": [],
   "source": [
    "# import companies.csv as companies\n",
    "companies = pd.read_csv(\"../../Data/companies.tsv\", sep = \"\\t\", encoding = \"ISO-8859-1\") \n",
    "\n",
    "# import rounds2.csv as rounds\n",
    "rounds = pd.read_csv(\"../../Data/rounds2.csv\", sep = \",\", encoding = \"ISO-8859-1\")\n",
    "# ISO for lack of charset in UTF-8"
   ]
  },
  {
   "cell_type": "code",
   "execution_count": 10,
   "metadata": {},
   "outputs": [
    {
     "name": "stdout",
     "output_type": "stream",
     "text": [
      "<class 'pandas.core.frame.DataFrame'>\n",
      "RangeIndex: 66368 entries, 0 to 66367\n",
      "Data columns (total 10 columns):\n",
      "permalink        66368 non-null object\n",
      "name             66367 non-null object\n",
      "homepage_url     61310 non-null object\n",
      "category_list    63220 non-null object\n",
      "status           66368 non-null object\n",
      "country_code     59410 non-null object\n",
      "state_code       57821 non-null object\n",
      "region           58338 non-null object\n",
      "city             58340 non-null object\n",
      "founded_at       51147 non-null object\n",
      "dtypes: object(10)\n",
      "memory usage: 5.1+ MB\n",
      "None\n",
      "shape of dataset:  (66368, 10)\n",
      "variable dtypes:\n",
      " permalink        object\n",
      "name             object\n",
      "homepage_url     object\n",
      "category_list    object\n",
      "status           object\n",
      "country_code     object\n",
      "state_code       object\n",
      "region           object\n",
      "city             object\n",
      "founded_at       object\n",
      "dtype: object\n"
     ]
    }
   ],
   "source": [
    "#information of the companies dataset\n",
    "print(companies.info()); print(\"shape of dataset: \", companies.shape); print(\"variable dtypes:\\n\", companies.dtypes)"
   ]
  },
  {
   "cell_type": "code",
   "execution_count": 11,
   "metadata": {},
   "outputs": [
    {
     "name": "stdout",
     "output_type": "stream",
     "text": [
      "<class 'pandas.core.frame.DataFrame'>\n",
      "RangeIndex: 114949 entries, 0 to 114948\n",
      "Data columns (total 6 columns):\n",
      "company_permalink          114949 non-null object\n",
      "funding_round_permalink    114949 non-null object\n",
      "funding_round_type         114949 non-null object\n",
      "funding_round_code         31140 non-null object\n",
      "funded_at                  114949 non-null object\n",
      "raised_amount_usd          94959 non-null float64\n",
      "dtypes: float64(1), object(5)\n",
      "memory usage: 5.3+ MB\n",
      "None\n",
      "shape of dataset:  (114949, 6)\n",
      "variable dtypes:\n",
      " company_permalink           object\n",
      "funding_round_permalink     object\n",
      "funding_round_type          object\n",
      "funding_round_code          object\n",
      "funded_at                   object\n",
      "raised_amount_usd          float64\n",
      "dtype: object\n"
     ]
    }
   ],
   "source": [
    "# information about the rounds dataset\n",
    "print(rounds.info()); print(\"shape of dataset: \", rounds.shape); print(\"variable dtypes:\\n\", rounds.dtypes)"
   ]
  },
  {
   "cell_type": "markdown",
   "metadata": {},
   "source": [
    "Since we will be focusing mostly on four variables only, let's remove all the extraneous variables from both the datasets. \n",
    "We'll remove from the companies dataset the following variables:\n",
    "    - state_code\n",
    "    - region\n",
    "    - city\n",
    "    - homepage_url\n",
    "    - founded_at\n",
    "    - name"
   ]
  },
  {
   "cell_type": "code",
   "execution_count": 32,
   "metadata": {},
   "outputs": [],
   "source": [
    "# removing unnecessary columns from companies\n",
    "companies.drop([\"state_code\", \"region\", \"city\", \"homepage_url\", \"founded_at\", \"name\"], axis = 1, inplace = True)"
   ]
  },
  {
   "cell_type": "markdown",
   "metadata": {},
   "source": [
    "We'll remove the following from rounds:\n",
    "    - funded_at\n",
    "    - funding_round_code\n",
    "    - funding_round_permalink"
   ]
  },
  {
   "cell_type": "code",
   "execution_count": 33,
   "metadata": {},
   "outputs": [],
   "source": [
    "# removing unnecessary columns from rounds\n",
    "rounds.drop([\"funded_at\", \"funding_round_code\", \"funding_round_permalink\"], axis = 1, inplace = True)"
   ]
  },
  {
   "cell_type": "markdown",
   "metadata": {},
   "source": [
    "## Checkpoint 1 Q1: Number of unique companies in rounds\n",
    "To do this, we'll use the company_permalink column. However, instead of doing this directly, we'll first convert the company_permalink to lowercase and then determine the number of unique records."
   ]
  },
  {
   "cell_type": "code",
   "execution_count": 18,
   "metadata": {},
   "outputs": [
    {
     "data": {
      "text/plain": [
       "66370"
      ]
     },
     "execution_count": 18,
     "metadata": {},
     "output_type": "execute_result"
    }
   ],
   "source": [
    "# converting company_permalink to lower case and getting number of unique records.\n",
    "rounds.company_permalink.str.lower().nunique()"
   ]
  },
  {
   "cell_type": "markdown",
   "metadata": {},
   "source": [
    "There seem to be 66370 unique companies in the dataset. This means that there are companies that had more than one round of funding. [Import Observation]"
   ]
  },
  {
   "cell_type": "markdown",
   "metadata": {},
   "source": [
    "## Checpoint 1 Q2: Number of unique companies in companies\n",
    "This time, we'll use the permalink, which is supposed to be the UID of a company. As with rounds.company_permalink, we'll first convert to lower case and then proceed to count the number of unique records."
   ]
  },
  {
   "cell_type": "code",
   "execution_count": 19,
   "metadata": {},
   "outputs": [
    {
     "data": {
      "text/plain": [
       "66368"
      ]
     },
     "execution_count": 19,
     "metadata": {},
     "output_type": "execute_result"
    }
   ],
   "source": [
    "companies.permalink.str.lower().nunique()"
   ]
  },
  {
   "cell_type": "markdown",
   "metadata": {},
   "source": [
    "There seems to be a discrepancy between the number of unique records in companies and rounds. Does this mean that there are at least 2 companies in rounds that are not present in companies?"
   ]
  },
  {
   "cell_type": "markdown",
   "metadata": {},
   "source": [
    "## Checkpoint 1 Q3: Key column to merge companies and rounds\n",
    "This is pretty easy. From the data dictionary we know the companies.permalink and rounds.company_permalink are UID's of each company in the dataset. So, we'll use companies.permalink as the key to merge with rounds."
   ]
  },
  {
   "cell_type": "markdown",
   "metadata": {},
   "source": [
    "## Checkpoint 1 Q4: Mismatches between rounds and companies\n",
    "Ok. Now, we're required to find out if there are any records that are unique to rounds only. That is these organizations are not present in companies but are present in rounds.\n",
    "\n",
    "We can do this by merging on companies.permalink and rounds.company_permalink. But, we'll take a slightly different approach here. \n",
    "\n",
    "First off, we'll create two new columns in rounds and companies called company_name and name resp. Then, we'll merge based on those columns and check for missing values. If there are missing values, then there are companies which are unique to rounds only. "
   ]
  },
  {
   "cell_type": "code",
   "execution_count": 34,
   "metadata": {},
   "outputs": [],
   "source": [
    "# creating comapnies.name\n",
    "companies[\"name\"] = companies.permalink.str.lower().str.extract(\"\\/[A-Za-z]*\\/(.*)\")"
   ]
  },
  {
   "cell_type": "code",
   "execution_count": 35,
   "metadata": {},
   "outputs": [],
   "source": [
    "# creating rounds.company_name\n",
    "rounds[\"company_name\"] = rounds.company_permalink.str.lower().str.extract(\"\\/[A-Za-z]*\\/(.*)\")"
   ]
  },
  {
   "cell_type": "code",
   "execution_count": 57,
   "metadata": {},
   "outputs": [
    {
     "data": {
      "text/plain": [
       "29597                                 e-cãbica\n",
       "31863            energystone-games-çµç³æ¸¸æ\n",
       "45176                    huizuche-com-æ ç§ÿè½¦\n",
       "58473                  magnet-tech-ç£ç³ç§æ\n",
       "101036    tipcat-interactive-æ²èÿä¿¡æ¯ç§æ\n",
       "109969                 weiche-tech-åè½¦ç§æ\n",
       "113839                     zengame-ç¦\n",
       "æ¸¸ç§æ\n",
       "Name: company_name, dtype: object"
      ]
     },
     "execution_count": 57,
     "metadata": {},
     "output_type": "execute_result"
    }
   ],
   "source": [
    "# checking if there are any unique records.\n",
    "rounds.company_name[~rounds.company_name.isin(companies.name)].dropna()"
   ]
  },
  {
   "cell_type": "markdown",
   "metadata": {},
   "source": [
    "(Look at this stackoverflow answer: https://stackoverflow.com/questions/28901683/pandas-get-rows-which-are-not-in-other-dataframe for the full explanation of the code used above.)"
   ]
  },
  {
   "cell_type": "markdown",
   "metadata": {},
   "source": [
    "So, there seem to be 7 companies that are in rounds but not in companies. So, the answer to the fourth question is yes. There are organizations that are present in rounds but not in companies."
   ]
  },
  {
   "cell_type": "markdown",
   "metadata": {},
   "source": [
    "## Checkpoing 1 Q5: Merge the two dataframes\n",
    "This is the basis of all our analysis. Merging the two DataFrames will give us a single data frame which contains all the data needed. After this step, we can finally start treating the missing values."
   ]
  },
  {
   "cell_type": "code",
   "execution_count": null,
   "metadata": {},
   "outputs": [],
   "source": []
  },
  {
   "cell_type": "code",
   "execution_count": null,
   "metadata": {},
   "outputs": [],
   "source": []
  },
  {
   "cell_type": "code",
   "execution_count": null,
   "metadata": {},
   "outputs": [],
   "source": []
  },
  {
   "cell_type": "code",
   "execution_count": null,
   "metadata": {},
   "outputs": [],
   "source": []
  },
  {
   "cell_type": "code",
   "execution_count": null,
   "metadata": {},
   "outputs": [],
   "source": []
  },
  {
   "cell_type": "code",
   "execution_count": null,
   "metadata": {},
   "outputs": [],
   "source": []
  },
  {
   "cell_type": "code",
   "execution_count": null,
   "metadata": {},
   "outputs": [],
   "source": []
  },
  {
   "cell_type": "code",
   "execution_count": null,
   "metadata": {},
   "outputs": [],
   "source": []
  }
 ],
 "metadata": {
  "kernelspec": {
   "display_name": "Python 3",
   "language": "python",
   "name": "python3"
  },
  "language_info": {
   "codemirror_mode": {
    "name": "ipython",
    "version": 3
   },
   "file_extension": ".py",
   "mimetype": "text/x-python",
   "name": "python",
   "nbconvert_exporter": "python",
   "pygments_lexer": "ipython3",
   "version": "3.6.6"
  }
 },
 "nbformat": 4,
 "nbformat_minor": 2
}
