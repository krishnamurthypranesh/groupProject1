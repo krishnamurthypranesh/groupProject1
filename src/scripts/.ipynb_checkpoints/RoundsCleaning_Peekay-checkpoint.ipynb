{
 "cells": [
  {
   "cell_type": "markdown",
   "metadata": {},
   "source": [
    "This file contains the code for cleaning the rounds2 file of the project."
   ]
  },
  {
   "cell_type": "markdown",
   "metadata": {},
   "source": [
    "## Code Style\n",
    "    - Case: \n",
    "        - snake_case for objects\n",
    "        - camelCase for functions and classes\n",
    "    - Double quotes first, then single quotes"
   ]
  },
  {
   "cell_type": "markdown",
   "metadata": {},
   "source": [
    "## Libraries used\n",
    "    - Pandas\n",
    "    - Numpy"
   ]
  },
  {
   "cell_type": "markdown",
   "metadata": {},
   "source": [
    "## The Workflow\n",
    "    - Check parsing of variables\n",
    "    - Treat missing values"
   ]
  },
  {
   "cell_type": "code",
   "execution_count": 1,
   "metadata": {},
   "outputs": [
    {
     "name": "stderr",
     "output_type": "stream",
     "text": [
      "/usr/lib/python3.6/importlib/_bootstrap.py:219: RuntimeWarning: numpy.dtype size changed, may indicate binary incompatibility. Expected 96, got 88\n",
      "  return f(*args, **kwds)\n",
      "/usr/lib/python3.6/importlib/_bootstrap.py:219: RuntimeWarning: numpy.dtype size changed, may indicate binary incompatibility. Expected 96, got 88\n",
      "  return f(*args, **kwds)\n"
     ]
    }
   ],
   "source": [
    "# import the required libraries\n",
    "import numpy as np # req for pandas. version 1.15.0\n",
    "import pandas as pd # for data wrangling. version 0.23.4"
   ]
  },
  {
   "cell_type": "code",
   "execution_count": 2,
   "metadata": {},
   "outputs": [],
   "source": [
    "# read in data to rounds data frame\n",
    "rounds = pd.read_csv(\"../../Data/rounds2.csv\", sep = \",\", encoding = \"ISO-8859-1\")\n",
    "# using ISO-8859-1 encoding as DF contains some unique characters not present in UTF-8"
   ]
  },
  {
   "cell_type": "code",
   "execution_count": 3,
   "metadata": {},
   "outputs": [
    {
     "name": "stdout",
     "output_type": "stream",
     "text": [
      "<class 'pandas.core.frame.DataFrame'>\n",
      "RangeIndex: 114949 entries, 0 to 114948\n",
      "Data columns (total 6 columns):\n",
      "company_permalink          114949 non-null object\n",
      "funding_round_permalink    114949 non-null object\n",
      "funding_round_type         114949 non-null object\n",
      "funding_round_code         31140 non-null object\n",
      "funded_at                  114949 non-null object\n",
      "raised_amount_usd          94959 non-null float64\n",
      "dtypes: float64(1), object(5)\n",
      "memory usage: 5.3+ MB\n",
      "None\n",
      "company_permalink           object\n",
      "funding_round_permalink     object\n",
      "funding_round_type          object\n",
      "funding_round_code          object\n",
      "funded_at                   object\n",
      "raised_amount_usd          float64\n",
      "dtype: object\n"
     ]
    }
   ],
   "source": [
    "print(rounds.info()); print(rounds.dtypes)"
   ]
  },
  {
   "cell_type": "code",
   "execution_count": 4,
   "metadata": {},
   "outputs": [
    {
     "data": {
      "text/plain": [
       "Index(['company_permalink', 'funding_round_permalink', 'funding_round_type',\n",
       "       'funding_round_code', 'funded_at', 'raised_amount_usd'],\n",
       "      dtype='object')"
      ]
     },
     "execution_count": 4,
     "metadata": {},
     "output_type": "execute_result"
    }
   ],
   "source": [
    "rounds.columns"
   ]
  },
  {
   "cell_type": "markdown",
   "metadata": {},
   "source": [
    "## Some initial information about the data "
   ]
  },
  {
   "cell_type": "markdown",
   "metadata": {},
   "source": [
    "The DF contains 6 variables and about a 114500 rows. Out of these rows, only one is numeric (64 bit floating point data type). The other 5 are objects (mainly characters)."
   ]
  },
  {
   "cell_type": "code",
   "execution_count": 5,
   "metadata": {},
   "outputs": [
    {
     "data": {
      "text/html": [
       "<div>\n",
       "<style scoped>\n",
       "    .dataframe tbody tr th:only-of-type {\n",
       "        vertical-align: middle;\n",
       "    }\n",
       "\n",
       "    .dataframe tbody tr th {\n",
       "        vertical-align: top;\n",
       "    }\n",
       "\n",
       "    .dataframe thead th {\n",
       "        text-align: right;\n",
       "    }\n",
       "</style>\n",
       "<table border=\"1\" class=\"dataframe\">\n",
       "  <thead>\n",
       "    <tr style=\"text-align: right;\">\n",
       "      <th></th>\n",
       "      <th>company_permalink</th>\n",
       "      <th>funding_round_permalink</th>\n",
       "      <th>funding_round_type</th>\n",
       "      <th>funding_round_code</th>\n",
       "      <th>funded_at</th>\n",
       "      <th>raised_amount_usd</th>\n",
       "    </tr>\n",
       "  </thead>\n",
       "  <tbody>\n",
       "    <tr>\n",
       "      <th>0</th>\n",
       "      <td>/organization/-fame</td>\n",
       "      <td>/funding-round/9a01d05418af9f794eebff7ace91f638</td>\n",
       "      <td>venture</td>\n",
       "      <td>B</td>\n",
       "      <td>05-01-2015</td>\n",
       "      <td>10000000.0</td>\n",
       "    </tr>\n",
       "    <tr>\n",
       "      <th>1</th>\n",
       "      <td>/ORGANIZATION/-QOUNTER</td>\n",
       "      <td>/funding-round/22dacff496eb7acb2b901dec1dfe5633</td>\n",
       "      <td>venture</td>\n",
       "      <td>A</td>\n",
       "      <td>14-10-2014</td>\n",
       "      <td>NaN</td>\n",
       "    </tr>\n",
       "    <tr>\n",
       "      <th>2</th>\n",
       "      <td>/organization/-qounter</td>\n",
       "      <td>/funding-round/b44fbb94153f6cdef13083530bb48030</td>\n",
       "      <td>seed</td>\n",
       "      <td>NaN</td>\n",
       "      <td>01-03-2014</td>\n",
       "      <td>700000.0</td>\n",
       "    </tr>\n",
       "    <tr>\n",
       "      <th>3</th>\n",
       "      <td>/ORGANIZATION/-THE-ONE-OF-THEM-INC-</td>\n",
       "      <td>/funding-round/650b8f704416801069bb178a1418776b</td>\n",
       "      <td>venture</td>\n",
       "      <td>B</td>\n",
       "      <td>30-01-2014</td>\n",
       "      <td>3406878.0</td>\n",
       "    </tr>\n",
       "    <tr>\n",
       "      <th>4</th>\n",
       "      <td>/organization/0-6-com</td>\n",
       "      <td>/funding-round/5727accaeaa57461bd22a9bdd945382d</td>\n",
       "      <td>venture</td>\n",
       "      <td>A</td>\n",
       "      <td>19-03-2008</td>\n",
       "      <td>2000000.0</td>\n",
       "    </tr>\n",
       "    <tr>\n",
       "      <th>5</th>\n",
       "      <td>/ORGANIZATION/004-TECHNOLOGIES</td>\n",
       "      <td>/funding-round/1278dd4e6a37fa4b7d7e06c21b3c1830</td>\n",
       "      <td>venture</td>\n",
       "      <td>NaN</td>\n",
       "      <td>24-07-2014</td>\n",
       "      <td>NaN</td>\n",
       "    </tr>\n",
       "    <tr>\n",
       "      <th>6</th>\n",
       "      <td>/organization/01games-technology</td>\n",
       "      <td>/funding-round/7d53696f2b4f607a2f2a8cbb83d01839</td>\n",
       "      <td>undisclosed</td>\n",
       "      <td>NaN</td>\n",
       "      <td>01-07-2014</td>\n",
       "      <td>41250.0</td>\n",
       "    </tr>\n",
       "    <tr>\n",
       "      <th>7</th>\n",
       "      <td>/ORGANIZATION/0NDINE-BIOMEDICAL-INC</td>\n",
       "      <td>/funding-round/2b9d3ac293d5cdccbecff5c8cb0f327d</td>\n",
       "      <td>seed</td>\n",
       "      <td>NaN</td>\n",
       "      <td>11-09-2009</td>\n",
       "      <td>43360.0</td>\n",
       "    </tr>\n",
       "    <tr>\n",
       "      <th>8</th>\n",
       "      <td>/organization/0ndine-biomedical-inc</td>\n",
       "      <td>/funding-round/954b9499724b946ad8c396a57a5f3b72</td>\n",
       "      <td>venture</td>\n",
       "      <td>NaN</td>\n",
       "      <td>21-12-2009</td>\n",
       "      <td>719491.0</td>\n",
       "    </tr>\n",
       "    <tr>\n",
       "      <th>9</th>\n",
       "      <td>/ORGANIZATION/0XDATA</td>\n",
       "      <td>/funding-round/383a9bd2c04f7038bb543ccef5ba3eae</td>\n",
       "      <td>seed</td>\n",
       "      <td>NaN</td>\n",
       "      <td>22-05-2013</td>\n",
       "      <td>3000000.0</td>\n",
       "    </tr>\n",
       "  </tbody>\n",
       "</table>\n",
       "</div>"
      ],
      "text/plain": [
       "                     company_permalink  \\\n",
       "0                  /organization/-fame   \n",
       "1               /ORGANIZATION/-QOUNTER   \n",
       "2               /organization/-qounter   \n",
       "3  /ORGANIZATION/-THE-ONE-OF-THEM-INC-   \n",
       "4                /organization/0-6-com   \n",
       "5       /ORGANIZATION/004-TECHNOLOGIES   \n",
       "6     /organization/01games-technology   \n",
       "7  /ORGANIZATION/0NDINE-BIOMEDICAL-INC   \n",
       "8  /organization/0ndine-biomedical-inc   \n",
       "9                 /ORGANIZATION/0XDATA   \n",
       "\n",
       "                           funding_round_permalink funding_round_type  \\\n",
       "0  /funding-round/9a01d05418af9f794eebff7ace91f638            venture   \n",
       "1  /funding-round/22dacff496eb7acb2b901dec1dfe5633            venture   \n",
       "2  /funding-round/b44fbb94153f6cdef13083530bb48030               seed   \n",
       "3  /funding-round/650b8f704416801069bb178a1418776b            venture   \n",
       "4  /funding-round/5727accaeaa57461bd22a9bdd945382d            venture   \n",
       "5  /funding-round/1278dd4e6a37fa4b7d7e06c21b3c1830            venture   \n",
       "6  /funding-round/7d53696f2b4f607a2f2a8cbb83d01839        undisclosed   \n",
       "7  /funding-round/2b9d3ac293d5cdccbecff5c8cb0f327d               seed   \n",
       "8  /funding-round/954b9499724b946ad8c396a57a5f3b72            venture   \n",
       "9  /funding-round/383a9bd2c04f7038bb543ccef5ba3eae               seed   \n",
       "\n",
       "  funding_round_code   funded_at  raised_amount_usd  \n",
       "0                  B  05-01-2015         10000000.0  \n",
       "1                  A  14-10-2014                NaN  \n",
       "2                NaN  01-03-2014           700000.0  \n",
       "3                  B  30-01-2014          3406878.0  \n",
       "4                  A  19-03-2008          2000000.0  \n",
       "5                NaN  24-07-2014                NaN  \n",
       "6                NaN  01-07-2014            41250.0  \n",
       "7                NaN  11-09-2009            43360.0  \n",
       "8                NaN  21-12-2009           719491.0  \n",
       "9                NaN  22-05-2013          3000000.0  "
      ]
     },
     "execution_count": 5,
     "metadata": {},
     "output_type": "execute_result"
    }
   ],
   "source": [
    "rounds.head(10)"
   ]
  },
  {
   "cell_type": "code",
   "execution_count": 6,
   "metadata": {},
   "outputs": [
    {
     "data": {
      "text/plain": [
       "count    9.495900e+04\n",
       "mean     1.042687e+07\n",
       "std      1.148212e+08\n",
       "min      0.000000e+00\n",
       "25%      3.225000e+05\n",
       "50%      1.680511e+06\n",
       "75%      7.000000e+06\n",
       "max      2.127194e+10\n",
       "Name: raised_amount_usd, dtype: float64"
      ]
     },
     "execution_count": 6,
     "metadata": {},
     "output_type": "execute_result"
    }
   ],
   "source": [
    "# statistics about raised_amount_usd, the only numeric var\n",
    "rounds.raised_amount_usd.describe()"
   ]
  },
  {
   "cell_type": "code",
   "execution_count": 7,
   "metadata": {},
   "outputs": [
    {
     "name": "stdout",
     "output_type": "stream",
     "text": [
      "90247\n",
      "114949\n",
      "14\n",
      "9\n",
      "5033\n",
      "22096\n"
     ]
    },
    {
     "data": {
      "text/plain": [
       "company_permalink          None\n",
       "funding_round_permalink    None\n",
       "funding_round_type         None\n",
       "funding_round_code         None\n",
       "funded_at                  None\n",
       "raised_amount_usd          None\n",
       "dtype: object"
      ]
     },
     "execution_count": 7,
     "metadata": {},
     "output_type": "execute_result"
    }
   ],
   "source": [
    "# number of unique values in the other 5 variables\n",
    "rounds.iloc[:, :].apply(lambda x: print(len(x.unique())))"
   ]
  },
  {
   "cell_type": "code",
   "execution_count": 8,
   "metadata": {},
   "outputs": [
    {
     "name": "stdout",
     "output_type": "stream",
     "text": [
      "<bound method Series.unique of 0                                       /organization/-fame\n",
      "1                                    /ORGANIZATION/-QOUNTER\n",
      "2                                    /organization/-qounter\n",
      "3                       /ORGANIZATION/-THE-ONE-OF-THEM-INC-\n",
      "4                                     /organization/0-6-com\n",
      "5                            /ORGANIZATION/004-TECHNOLOGIES\n",
      "6                          /organization/01games-technology\n",
      "7                       /ORGANIZATION/0NDINE-BIOMEDICAL-INC\n",
      "8                       /organization/0ndine-biomedical-inc\n",
      "9                                      /ORGANIZATION/0XDATA\n",
      "10                                     /organization/0xdata\n",
      "11                                     /ORGANIZATION/0XDATA\n",
      "12                                     /organization/0xdata\n",
      "13                                          /ORGANIZATION/1\n",
      "14                                          /organization/1\n",
      "15                                          /ORGANIZATION/1\n",
      "16                                /organization/1-2-3-listo\n",
      "17                                    /ORGANIZATION/1-4-ALL\n",
      "18                           /organization/1-618-technology\n",
      "19                              /ORGANIZATION/1-800-DENTIST\n",
      "20                              /organization/1-800-doctors\n",
      "21                 /ORGANIZATION/1-800-PUBLICRELATIONS-INC-\n",
      "22                               /organization/1-mainstream\n",
      "23                                    /ORGANIZATION/1-OF-99\n",
      "24                                /organization/10-20-media\n",
      "25                                /ORGANIZATION/10-20-MEDIA\n",
      "26                                /organization/10-20-media\n",
      "27                                /ORGANIZATION/10-20-MEDIA\n",
      "28                            /organization/10-minutes-with\n",
      "29                            /ORGANIZATION/10-MINUTES-WITH\n",
      "                                ...                        \n",
      "114919                                /ORGANIZATION/ZYNSTRA\n",
      "114920                             /organization/zyomyx-inc\n",
      "114921                             /ORGANIZATION/ZYOMYX-INC\n",
      "114922                             /organization/zyomyx-inc\n",
      "114923                             /ORGANIZATION/ZYOMYX-INC\n",
      "114924                                   /organization/zype\n",
      "114925                                   /ORGANIZATION/ZYPE\n",
      "114926                                 /organization/zypsee\n",
      "114927                                 /ORGANIZATION/ZYPSEE\n",
      "114928                       /organization/zyraz-technology\n",
      "114929                       /ORGANIZATION/ZYRAZ-TECHNOLOGY\n",
      "114930                       /organization/zyraz-technology\n",
      "114931                       /ORGANIZATION/ZYRAZ-TECHNOLOGY\n",
      "114932                                  /organization/zyrra\n",
      "114933                                  /ORGANIZATION/ZYRRA\n",
      "114934                                  /organization/zyrra\n",
      "114935                                  /ORGANIZATION/ZYRRA\n",
      "114936                                 /organization/zystor\n",
      "114937                             /ORGANIZATION/ZYTOPROTEC\n",
      "114938                                  /organization/zzish\n",
      "114939                                  /ORGANIZATION/ZZISH\n",
      "114940                                  /organization/zzish\n",
      "114941    /ORGANIZATION/ZZNODE-SCIENCE-AND-TECHNOLOGY-CO...\n",
      "114942                            /organization/zzzzapp-com\n",
      "114943                            /ORGANIZATION/ZZZZAPP-COM\n",
      "114944                            /organization/zzzzapp-com\n",
      "114945                            /ORGANIZATION/ZZZZAPP-COM\n",
      "114946                                 /organization/ãeron\n",
      "114947                               /ORGANIZATION/ÃASYS-2\n",
      "114948    /organization/ä°novatiff-reklam-ve-tanä±tä±m-h...\n",
      "Name: company_permalink, Length: 114949, dtype: object>\n",
      "<bound method Series.unique of 0         /funding-round/9a01d05418af9f794eebff7ace91f638\n",
      "1         /funding-round/22dacff496eb7acb2b901dec1dfe5633\n",
      "2         /funding-round/b44fbb94153f6cdef13083530bb48030\n",
      "3         /funding-round/650b8f704416801069bb178a1418776b\n",
      "4         /funding-round/5727accaeaa57461bd22a9bdd945382d\n",
      "5         /funding-round/1278dd4e6a37fa4b7d7e06c21b3c1830\n",
      "6         /funding-round/7d53696f2b4f607a2f2a8cbb83d01839\n",
      "7         /funding-round/2b9d3ac293d5cdccbecff5c8cb0f327d\n",
      "8         /funding-round/954b9499724b946ad8c396a57a5f3b72\n",
      "9         /funding-round/383a9bd2c04f7038bb543ccef5ba3eae\n",
      "10        /funding-round/3bb2ee4a2d89251a10aaa735b1180e44\n",
      "11        /funding-round/ae2a174c06517c2394aed45006322a7e\n",
      "12        /funding-round/e1cfcbe1bdf4c70277c5f29a3482f24e\n",
      "13        /funding-round/03b975068632eba5bfdb937ec8c07a68\n",
      "14        /funding-round/5de6d8828aef7d925d97918d15727670\n",
      "15        /funding-round/e82464f22241715dd1a6c77241055ed1\n",
      "16        /funding-round/6de4609e894495105bc791ed64361288\n",
      "17        /funding-round/e97a192e13ea0ee3c4f71136b4f3ec16\n",
      "18        /funding-round/83b8f4c7d37ecef5e001a5e953bf461a\n",
      "19        /funding-round/5274aacc211163fc7c86539ce94bbacc\n",
      "20        /funding-round/9eb8c7790a0c200d79e75785d1c4aa12\n",
      "21        /funding-round/11c228f58831bc7ed337ef69ecc560c2\n",
      "22        /funding-round/b952cbaf401f310927430c97b68162ea\n",
      "23        /funding-round/b5c811f561cfb5701cd5b1762120bbc3\n",
      "24        /funding-round/436874dc54b54460f99f44c06e50990a\n",
      "25        /funding-round/8025ee9c11a586eac4a234ddec7beb30\n",
      "26        /funding-round/a884bf8326b9fd59789c0f74a28dbc3b\n",
      "27        /funding-round/d205f5416ce55e126beda3ed2bf2c2cd\n",
      "28        /funding-round/0faccbbcc5818dc5326469f13f5a8ac8\n",
      "29        /funding-round/f245a74b4c54610ae843e17bdf4d1113\n",
      "                               ...                       \n",
      "114919    /funding-round/dee233b3434185c14b3352034f72d798\n",
      "114920    /funding-round/4191cb5258d3863b0212d1083881da64\n",
      "114921    /funding-round/85443f5438bfd50104b9591eabc95c94\n",
      "114922    /funding-round/b4fce7f8a13267353d57db09099800e8\n",
      "114923    /funding-round/ea5b21da6cf999ff4d5667431fe318d7\n",
      "114924    /funding-round/24e8134882bf6c4dcc385abba0acd5d9\n",
      "114925    /funding-round/c9f5097b3617c7539aa47c8b448163be\n",
      "114926    /funding-round/472c6f7940522552fcca465b8cd3deef\n",
      "114927    /funding-round/c67e22c5448435adaf5a2d101e449dde\n",
      "114928    /funding-round/3c3ae0f177e01a04deea811e1828be35\n",
      "114929    /funding-round/55f33b179dd6f4516315348c1e8350c6\n",
      "114930    /funding-round/c05aab2155e390066d51c6852ff61464\n",
      "114931    /funding-round/e949f077c943db197f20e43c2eb8d0e6\n",
      "114932    /funding-round/2a13fa52848ace2760b224a350a76b40\n",
      "114933    /funding-round/39baf35e59eb3efc5409cd4c5eaa50e1\n",
      "114934    /funding-round/7a0fa791c96c9c447ee54662395beab9\n",
      "114935    /funding-round/cc8cd96a500332d5b4f4bcbddb306099\n",
      "114936    /funding-round/7ea37c0ff4132b084832039a9380d34e\n",
      "114937    /funding-round/0c43e717298296d2fb334fb236300f6e\n",
      "114938    /funding-round/34b560f672bebeb339a5efa3b27eae5d\n",
      "114939    /funding-round/4c82e18a8e3eab2647719d0fc27ead5f\n",
      "114940    /funding-round/73721fffc980d228f051e87422aa8732\n",
      "114941    /funding-round/171693e1e07e0230defd8fddb6de4515\n",
      "114942    /funding-round/22ef2fafb4d20ac3aa4b86143dbf6c8e\n",
      "114943    /funding-round/6ba41360588bc6e3f77e9b50a0ebfafa\n",
      "114944    /funding-round/8f6d25b8ee4199e586484d817bceda05\n",
      "114945    /funding-round/ff1aa06ed5da186c84f101549035d4ae\n",
      "114946    /funding-round/59f4dce44723b794f21ded3daed6e4fe\n",
      "114947    /funding-round/35f09d0794651719b02bbfd859ba9ff5\n",
      "114948    /funding-round/af942869878d2cd788ef5189b435ebc4\n",
      "Name: funding_round_permalink, Length: 114949, dtype: object>\n",
      "<bound method Series.unique of 0                     venture\n",
      "1                     venture\n",
      "2                        seed\n",
      "3                     venture\n",
      "4                     venture\n",
      "5                     venture\n",
      "6                 undisclosed\n",
      "7                        seed\n",
      "8                     venture\n",
      "9                        seed\n",
      "10                    venture\n",
      "11                    venture\n",
      "12                    venture\n",
      "13                       seed\n",
      "14                undisclosed\n",
      "15                       seed\n",
      "16                       seed\n",
      "17        equity_crowdfunding\n",
      "18        equity_crowdfunding\n",
      "19                undisclosed\n",
      "20           convertible_note\n",
      "21             private_equity\n",
      "22                    venture\n",
      "23           convertible_note\n",
      "24             debt_financing\n",
      "25             debt_financing\n",
      "26             debt_financing\n",
      "27             debt_financing\n",
      "28                    venture\n",
      "29                       seed\n",
      "                 ...         \n",
      "114919                  angel\n",
      "114920                venture\n",
      "114921                  grant\n",
      "114922                venture\n",
      "114923                venture\n",
      "114924                   seed\n",
      "114925                   seed\n",
      "114926                   seed\n",
      "114927                   seed\n",
      "114928         private_equity\n",
      "114929                  angel\n",
      "114930                  grant\n",
      "114931                venture\n",
      "114932                   seed\n",
      "114933                   seed\n",
      "114934                venture\n",
      "114935                  angel\n",
      "114936                venture\n",
      "114937                venture\n",
      "114938                  grant\n",
      "114939                  angel\n",
      "114940                   seed\n",
      "114941                venture\n",
      "114942                   seed\n",
      "114943                   seed\n",
      "114944       convertible_note\n",
      "114945                   seed\n",
      "114946                venture\n",
      "114947                   seed\n",
      "114948                  grant\n",
      "Name: funding_round_type, Length: 114949, dtype: object>\n",
      "<bound method Series.unique of 0           B\n",
      "1           A\n",
      "2         NaN\n",
      "3           B\n",
      "4           A\n",
      "5         NaN\n",
      "6         NaN\n",
      "7         NaN\n",
      "8         NaN\n",
      "9         NaN\n",
      "10          B\n",
      "11        NaN\n",
      "12          A\n",
      "13        NaN\n",
      "14        NaN\n",
      "15        NaN\n",
      "16        NaN\n",
      "17        NaN\n",
      "18        NaN\n",
      "19        NaN\n",
      "20        NaN\n",
      "21        NaN\n",
      "22        NaN\n",
      "23        NaN\n",
      "24        NaN\n",
      "25        NaN\n",
      "26        NaN\n",
      "27        NaN\n",
      "28          A\n",
      "29        NaN\n",
      "         ... \n",
      "114919    NaN\n",
      "114920      B\n",
      "114921    NaN\n",
      "114922    NaN\n",
      "114923    NaN\n",
      "114924    NaN\n",
      "114925    NaN\n",
      "114926    NaN\n",
      "114927    NaN\n",
      "114928    NaN\n",
      "114929    NaN\n",
      "114930    NaN\n",
      "114931      A\n",
      "114932    NaN\n",
      "114933    NaN\n",
      "114934    NaN\n",
      "114935    NaN\n",
      "114936      A\n",
      "114937      A\n",
      "114938    NaN\n",
      "114939    NaN\n",
      "114940    NaN\n",
      "114941      A\n",
      "114942    NaN\n",
      "114943    NaN\n",
      "114944    NaN\n",
      "114945    NaN\n",
      "114946      A\n",
      "114947    NaN\n",
      "114948    NaN\n",
      "Name: funding_round_code, Length: 114949, dtype: object>\n",
      "<bound method Series.unique of 0         05-01-2015\n",
      "1         14-10-2014\n",
      "2         01-03-2014\n",
      "3         30-01-2014\n",
      "4         19-03-2008\n",
      "5         24-07-2014\n",
      "6         01-07-2014\n",
      "7         11-09-2009\n",
      "8         21-12-2009\n",
      "9         22-05-2013\n",
      "10        09-11-2015\n",
      "11        03-01-2013\n",
      "12        19-07-2014\n",
      "13        05-02-2014\n",
      "14        05-02-2013\n",
      "15        20-07-2011\n",
      "16        18-02-2013\n",
      "17        21-04-2013\n",
      "18        22-01-2014\n",
      "19        19-08-2010\n",
      "20        02-03-2011\n",
      "21        01-02-2015\n",
      "22        17-03-2015\n",
      "23        13-12-2014\n",
      "24        11-01-2011\n",
      "25        18-06-2009\n",
      "26        28-12-2011\n",
      "27        30-03-2010\n",
      "28        09-10-2014\n",
      "29        01-01-2013\n",
      "             ...    \n",
      "114919    18-09-2012\n",
      "114920    30-06-2013\n",
      "114921    26-03-2014\n",
      "114922    11-07-2013\n",
      "114923    29-01-2010\n",
      "114924    01-04-2015\n",
      "114925    27-10-2015\n",
      "114926    25-09-2013\n",
      "114927    26-07-2013\n",
      "114928    15-02-2013\n",
      "114929    01-01-2008\n",
      "114930    11-09-2009\n",
      "114931    09-10-2009\n",
      "114932    15-11-2010\n",
      "114933    21-10-2010\n",
      "114934    18-10-2012\n",
      "114935    15-12-2010\n",
      "114936    16-12-2004\n",
      "114937    29-01-2013\n",
      "114938    25-02-2015\n",
      "114939    31-10-2014\n",
      "114940    24-03-2014\n",
      "114941    01-04-2012\n",
      "114942    01-11-2011\n",
      "114943    01-08-2013\n",
      "114944    01-03-2014\n",
      "114945    01-05-2013\n",
      "114946    01-08-2014\n",
      "114947    01-01-2015\n",
      "114948    01-10-2013\n",
      "Name: funded_at, Length: 114949, dtype: object>\n",
      "<bound method Series.unique of 0               1e+07\n",
      "1                 NaN\n",
      "2              700000\n",
      "3         3.40688e+06\n",
      "4               2e+06\n",
      "5                 NaN\n",
      "6               41250\n",
      "7               43360\n",
      "8              719491\n",
      "9               3e+06\n",
      "10              2e+07\n",
      "11            1.7e+06\n",
      "12            8.9e+06\n",
      "13             150000\n",
      "14                NaN\n",
      "15        1.00005e+06\n",
      "16              40000\n",
      "17                NaN\n",
      "18                NaN\n",
      "19                NaN\n",
      "20           1.75e+06\n",
      "21              6e+06\n",
      "22              5e+06\n",
      "23             100000\n",
      "24             800000\n",
      "25             500000\n",
      "26             500000\n",
      "27             250000\n",
      "28              4e+06\n",
      "29             400000\n",
      "             ...     \n",
      "114919      2.325e+06\n",
      "114920        1.2e+07\n",
      "114921        7.5e+06\n",
      "114922      1.422e+07\n",
      "114923         555016\n",
      "114924        1.7e+06\n",
      "114925        1.6e+06\n",
      "114926       2.15e+06\n",
      "114927            NaN\n",
      "114928          20967\n",
      "114929    2.00736e+06\n",
      "114930        5.4e+06\n",
      "114931    7.99155e+06\n",
      "114932         445000\n",
      "114933          50000\n",
      "114934         140500\n",
      "114935         875000\n",
      "114936        8.5e+06\n",
      "114937     2.6866e+06\n",
      "114938         400000\n",
      "114939         400000\n",
      "114940         320000\n",
      "114941     1.5873e+06\n",
      "114942           7000\n",
      "114943          33149\n",
      "114944          41313\n",
      "114945          32842\n",
      "114946            NaN\n",
      "114947          18192\n",
      "114948          14851\n",
      "Name: raised_amount_usd, Length: 114949, dtype: object>\n"
     ]
    },
    {
     "data": {
      "text/plain": [
       "company_permalink          None\n",
       "funding_round_permalink    None\n",
       "funding_round_type         None\n",
       "funding_round_code         None\n",
       "funded_at                  None\n",
       "raised_amount_usd          None\n",
       "dtype: object"
      ]
     },
     "execution_count": 8,
     "metadata": {},
     "output_type": "execute_result"
    }
   ],
   "source": [
    "rounds.iloc[:, :].apply(lambda x: print(x.unique))"
   ]
  },
  {
   "cell_type": "markdown",
   "metadata": {},
   "source": [
    "We can see that funding_round_type contains about 14 unique values, funding_round_code contains 8 unique values and some missing values, while funded_at is a date. Next, we'll move on to the missing values."
   ]
  },
  {
   "cell_type": "code",
   "execution_count": 9,
   "metadata": {},
   "outputs": [
    {
     "data": {
      "text/plain": [
       "funding_round_code         0.729097\n",
       "raised_amount_usd          0.173903\n",
       "funded_at                  0.000000\n",
       "funding_round_type         0.000000\n",
       "funding_round_permalink    0.000000\n",
       "company_permalink          0.000000\n",
       "dtype: float64"
      ]
     },
     "execution_count": 9,
     "metadata": {},
     "output_type": "execute_result"
    }
   ],
   "source": [
    "# column wise percentage of missing values sorted in descending order\n",
    "rounds.isnull().mean().sort_values(ascending = False)"
   ]
  },
  {
   "cell_type": "markdown",
   "metadata": {},
   "source": [
    "Funding round code contains the most number of missing values, while raised_amount_usd contains quite a few missing values."
   ]
  },
  {
   "cell_type": "markdown",
   "metadata": {},
   "source": [
    "# Checkpoints\n",
    "## Checkpoint 1: Data Cleaning\n",
    "## Checkpoint 2: Funding Type Analysis\n",
    "## Checkpoint 3: Country Analysis\n",
    "## Checkpoint 4: Sector Analysis 1\n",
    "## Checkpoint 5: Sector Analysis 2"
   ]
  },
  {
   "cell_type": "markdown",
   "metadata": {},
   "source": [
    "## Checkpiont 1: Data Cleaning\n",
    "In this checkpoint, we're supposed to answer 5 questions and 3 of them pertian to the rounds data frame. They are:\n",
    "    - How many unique companies are in rounds2?\n",
    "    - Are there any companies in rounds2 that are not present in companies?\n",
    "    - Merge the companies and rounds2 DF's so that all the variables in companies is added to rounds2."
   ]
  },
  {
   "cell_type": "markdown",
   "metadata": {},
   "source": [
    "Before this can be done however, the data frame needs to be cleaned. This means removing missing values, which need to removed with future checkpoints in mind. "
   ]
  },
  {
   "cell_type": "markdown",
   "metadata": {},
   "source": [
    "For most of the checkpoints, funding_round_type, the variable with the highest percentage of missing values is not required. So, this variable can be simply ignored for the rest of the analysis."
   ]
  },
  {
   "cell_type": "markdown",
   "metadata": {},
   "source": [
    "The first question actually deals with a simple count. The question asks the number of unique companies present in the dataset. This can be determined using the permalink which acts an id for each of the organizations."
   ]
  },
  {
   "cell_type": "code",
   "execution_count": 10,
   "metadata": {},
   "outputs": [
    {
     "data": {
      "text/plain": [
       "90247"
      ]
     },
     "execution_count": 10,
     "metadata": {},
     "output_type": "execute_result"
    }
   ],
   "source": [
    "# number of unique companies in the dataset\n",
    "len(rounds.company_permalink.unique())"
   ]
  },
  {
   "cell_type": "markdown",
   "metadata": {},
   "source": [
    "There are 90,247 unique companies in this dataset. The dataset contains nearly a 115K observations. This means that some companies have had more than 1 shot at getting investment."
   ]
  },
  {
   "cell_type": "markdown",
   "metadata": {},
   "source": [
    "To answer the second question, we need the companies dataset. Let's not get into the details now. "
   ]
  },
  {
   "cell_type": "markdown",
   "metadata": {},
   "source": [
    "The third and probably the most important variable for this analysis is the amount of money raised. Here's the description of this variable."
   ]
  },
  {
   "cell_type": "code",
   "execution_count": 11,
   "metadata": {},
   "outputs": [
    {
     "data": {
      "text/plain": [
       "count    9.495900e+04\n",
       "mean     1.042687e+07\n",
       "std      1.148212e+08\n",
       "min      0.000000e+00\n",
       "25%      3.225000e+05\n",
       "50%      1.680511e+06\n",
       "75%      7.000000e+06\n",
       "max      2.127194e+10\n",
       "Name: raised_amount_usd, dtype: float64"
      ]
     },
     "execution_count": 11,
     "metadata": {},
     "output_type": "execute_result"
    }
   ],
   "source": [
    "rounds.raised_amount_usd.describe()"
   ]
  },
  {
   "cell_type": "markdown",
   "metadata": {},
   "source": [
    "To figure out the imputation method, look at the difference between mean - min and mean - max"
   ]
  },
  {
   "cell_type": "code",
   "execution_count": 53,
   "metadata": {},
   "outputs": [],
   "source": [
    "raised_amt_median = rounds.raised_amount_usd.median()\n",
    "raised_amt_min = rounds.raised_amount_usd.min()\n",
    "raised_amt_max = rounds.raised_amount_usd.max()\n",
    "raised_amt_mean = rounds.raised_amount_usd.mean()"
   ]
  },
  {
   "cell_type": "code",
   "execution_count": 55,
   "metadata": {},
   "outputs": [
    {
     "name": "stdout",
     "output_type": "stream",
     "text": [
      "2039.1075641766872\n",
      "12657.015924918076\n"
     ]
    }
   ],
   "source": [
    "print((raised_amt_max - raised_amt_mean) / (raised_amt_mean - raised_amt_min));\n",
    "print((raised_amt_max - raised_amt_median) / (raised_amt_median - raised_amt_min))"
   ]
  },
  {
   "cell_type": "markdown",
   "metadata": {},
   "source": [
    "The mean doesn't seem to be exactly at the center of the distribution of raised_amount_usd. The difference between the max and the mean seems to be greater than the difference between the mean and min by a factor of 2000!.\n",
    "It's even worse with the median. We're better off imputing using the mean!"
   ]
  },
  {
   "cell_type": "code",
   "execution_count": null,
   "metadata": {},
   "outputs": [],
   "source": []
  },
  {
   "cell_type": "code",
   "execution_count": null,
   "metadata": {},
   "outputs": [],
   "source": []
  },
  {
   "cell_type": "code",
   "execution_count": null,
   "metadata": {},
   "outputs": [],
   "source": []
  },
  {
   "cell_type": "code",
   "execution_count": null,
   "metadata": {},
   "outputs": [],
   "source": []
  },
  {
   "cell_type": "code",
   "execution_count": null,
   "metadata": {},
   "outputs": [],
   "source": []
  },
  {
   "cell_type": "code",
   "execution_count": null,
   "metadata": {},
   "outputs": [],
   "source": []
  }
 ],
 "metadata": {
  "kernelspec": {
   "display_name": "Python 3",
   "language": "python",
   "name": "python3"
  },
  "language_info": {
   "codemirror_mode": {
    "name": "ipython",
    "version": 3
   },
   "file_extension": ".py",
   "mimetype": "text/x-python",
   "name": "python",
   "nbconvert_exporter": "python",
   "pygments_lexer": "ipython3",
   "version": "3.6.6"
  }
 },
 "nbformat": 4,
 "nbformat_minor": 2
}
